{
  "cells": [
    {
      "cell_type": "markdown",
      "metadata": {
        "application/vnd.databricks.v1+cell": {
          "cellMetadata": {},
          "inputWidgets": {},
          "nuid": "95eb9fe0-705d-4f0a-ad54-b063abc3779e",
          "showTitle": false,
          "title": ""
        },
        "id": "j3axwrHHdbVm"
      },
      "source": [
        "# Random Forest Classifier training\n",
        "- This is an auto-generated notebook.\n",
        "- To reproduce these results, attach this notebook to a cluster with runtime version **14.2.x-cpu-ml-scala2.12**, and rerun it.\n",
        "- Compare trials in the [MLflow experiment](#mlflow/experiments/2254848194841967).\n",
        "- Clone this notebook into your project folder by selecting **File > Clone** in the notebook toolbar."
      ]
    },
    {
      "cell_type": "code",
      "execution_count": null,
      "metadata": {
        "application/vnd.databricks.v1+cell": {
          "cellMetadata": {},
          "inputWidgets": {},
          "nuid": "85f6ab92-a95a-4349-ad7b-e2d66d7a8ee4",
          "showTitle": false,
          "title": ""
        },
        "execution": {
          "iopub.execute_input": "2024-02-04T17:09:22.556177Z",
          "iopub.status.busy": "2024-02-04T17:09:22.555550Z",
          "iopub.status.idle": "2024-02-04T17:09:22.592167Z",
          "shell.execute_reply": "2024-02-04T17:09:22.591612Z"
        },
        "id": "kuBmXSywdbVr"
      },
      "outputs": [],
      "source": [
        "import mlflow\n",
        "import databricks.automl_runtime\n",
        "\n",
        "target_col = \"Outcome\""
      ]
    },
    {
      "cell_type": "markdown",
      "metadata": {
        "application/vnd.databricks.v1+cell": {
          "cellMetadata": {},
          "inputWidgets": {},
          "nuid": "a016fef0-5e66-46b9-9fdf-ca027888a395",
          "showTitle": false,
          "title": ""
        },
        "id": "779GlgZ9dbVs"
      },
      "source": [
        "## Load Data"
      ]
    },
    {
      "cell_type": "code",
      "execution_count": null,
      "metadata": {
        "application/vnd.databricks.v1+cell": {
          "cellMetadata": {},
          "inputWidgets": {},
          "nuid": "f4ef33e3-5cf0-4d5a-bba9-35fec8db780f",
          "showTitle": false,
          "title": ""
        },
        "execution": {
          "iopub.execute_input": "2024-02-04T17:09:22.595903Z",
          "iopub.status.busy": "2024-02-04T17:09:22.595297Z",
          "iopub.status.idle": "2024-02-04T17:09:24.401888Z",
          "shell.execute_reply": "2024-02-04T17:09:24.401199Z"
        },
        "id": "YK3znGoOdbVu",
        "outputId": "90ed6375-411d-449d-e5c0-cfca0c960a90",
        "colab": {
          "referenced_widgets": [
            "65636f893b7945ae96690f451351f54e"
          ]
        }
      },
      "outputs": [
        {
          "output_type": "display_data",
          "data": {
            "application/vnd.jupyter.widget-view+json": {
              "model_id": "65636f893b7945ae96690f451351f54e",
              "version_major": 2,
              "version_minor": 0
            },
            "text/plain": [
              "Downloading artifacts:   0%|          | 0/1 [00:00<?, ?it/s]"
            ]
          },
          "metadata": {}
        },
        {
          "output_type": "execute_result",
          "data": {
            "text/html": [
              "<div>\n",
              "<style scoped>\n",
              "    .dataframe tbody tr th:only-of-type {\n",
              "        vertical-align: middle;\n",
              "    }\n",
              "\n",
              "    .dataframe tbody tr th {\n",
              "        vertical-align: top;\n",
              "    }\n",
              "\n",
              "    .dataframe thead th {\n",
              "        text-align: right;\n",
              "    }\n",
              "</style>\n",
              "<table border=\"1\" class=\"dataframe\">\n",
              "  <thead>\n",
              "    <tr style=\"text-align: right;\">\n",
              "      <th></th>\n",
              "      <th>Pregnancies</th>\n",
              "      <th>Glucose</th>\n",
              "      <th>BloodPressure</th>\n",
              "      <th>SkinThickness</th>\n",
              "      <th>Insulin</th>\n",
              "      <th>BMI</th>\n",
              "      <th>DiabetesPedigreeFunction</th>\n",
              "      <th>Age</th>\n",
              "      <th>Outcome</th>\n",
              "      <th>_automl_split_col_0000</th>\n",
              "    </tr>\n",
              "  </thead>\n",
              "  <tbody>\n",
              "    <tr>\n",
              "      <th>0</th>\n",
              "      <td>6</td>\n",
              "      <td>148</td>\n",
              "      <td>72</td>\n",
              "      <td>35</td>\n",
              "      <td>0</td>\n",
              "      <td>33.6</td>\n",
              "      <td>0.627</td>\n",
              "      <td>50</td>\n",
              "      <td>1</td>\n",
              "      <td>train</td>\n",
              "    </tr>\n",
              "    <tr>\n",
              "      <th>1</th>\n",
              "      <td>0</td>\n",
              "      <td>137</td>\n",
              "      <td>40</td>\n",
              "      <td>35</td>\n",
              "      <td>168</td>\n",
              "      <td>43.1</td>\n",
              "      <td>2.288</td>\n",
              "      <td>33</td>\n",
              "      <td>1</td>\n",
              "      <td>train</td>\n",
              "    </tr>\n",
              "    <tr>\n",
              "      <th>2</th>\n",
              "      <td>3</td>\n",
              "      <td>78</td>\n",
              "      <td>50</td>\n",
              "      <td>32</td>\n",
              "      <td>88</td>\n",
              "      <td>31.0</td>\n",
              "      <td>0.248</td>\n",
              "      <td>26</td>\n",
              "      <td>1</td>\n",
              "      <td>train</td>\n",
              "    </tr>\n",
              "    <tr>\n",
              "      <th>3</th>\n",
              "      <td>10</td>\n",
              "      <td>115</td>\n",
              "      <td>0</td>\n",
              "      <td>0</td>\n",
              "      <td>0</td>\n",
              "      <td>35.3</td>\n",
              "      <td>0.134</td>\n",
              "      <td>29</td>\n",
              "      <td>0</td>\n",
              "      <td>train</td>\n",
              "    </tr>\n",
              "    <tr>\n",
              "      <th>4</th>\n",
              "      <td>10</td>\n",
              "      <td>168</td>\n",
              "      <td>74</td>\n",
              "      <td>0</td>\n",
              "      <td>0</td>\n",
              "      <td>38.0</td>\n",
              "      <td>0.537</td>\n",
              "      <td>34</td>\n",
              "      <td>1</td>\n",
              "      <td>train</td>\n",
              "    </tr>\n",
              "  </tbody>\n",
              "</table>\n",
              "</div>"
            ],
            "text/plain": [
              "   Pregnancies  Glucose  BloodPressure  SkinThickness  Insulin   BMI  \\\n",
              "0            6      148             72             35        0  33.6   \n",
              "1            0      137             40             35      168  43.1   \n",
              "2            3       78             50             32       88  31.0   \n",
              "3           10      115              0              0        0  35.3   \n",
              "4           10      168             74              0        0  38.0   \n",
              "\n",
              "   DiabetesPedigreeFunction  Age  Outcome _automl_split_col_0000  \n",
              "0                     0.627   50        1                  train  \n",
              "1                     2.288   33        1                  train  \n",
              "2                     0.248   26        1                  train  \n",
              "3                     0.134   29        0                  train  \n",
              "4                     0.537   34        1                  train  "
            ]
          },
          "execution_count": 3,
          "metadata": {}
        }
      ],
      "source": [
        "import mlflow\n",
        "import os\n",
        "import uuid\n",
        "import shutil\n",
        "import pandas as pd\n",
        "\n",
        "# Create temp directory to download input data from MLflow\n",
        "input_temp_dir = os.path.join(os.environ[\"SPARK_LOCAL_DIRS\"], \"tmp\", str(uuid.uuid4())[:8])\n",
        "os.makedirs(input_temp_dir)\n",
        "\n",
        "\n",
        "# Download the artifact and read it into a pandas DataFrame\n",
        "input_data_path = mlflow.artifacts.download_artifacts(run_id=\"3f6a13e4d07b463c90a081d3dca54776\", artifact_path=\"data\", dst_path=input_temp_dir)\n",
        "\n",
        "df_loaded = pd.read_parquet(os.path.join(input_data_path, \"training_data\"))\n",
        "# Delete the temp data\n",
        "shutil.rmtree(input_temp_dir)\n",
        "\n",
        "# Preview data\n",
        "df_loaded.head(5)"
      ]
    },
    {
      "cell_type": "markdown",
      "metadata": {
        "application/vnd.databricks.v1+cell": {
          "cellMetadata": {},
          "inputWidgets": {},
          "nuid": "ee8de2a6-fb1f-4235-9155-d91259c9f59f",
          "showTitle": false,
          "title": ""
        },
        "id": "YRE7gZmTdbVw"
      },
      "source": [
        "### Select supported columns\n",
        "Select only the columns that are supported. This allows us to train a model that can predict on a dataset that has extra columns that are not used in training.\n",
        "`[]` are dropped in the pipelines. See the Alerts tab of the AutoML Experiment page for details on why these columns are dropped."
      ]
    },
    {
      "cell_type": "code",
      "execution_count": null,
      "metadata": {
        "application/vnd.databricks.v1+cell": {
          "cellMetadata": {},
          "inputWidgets": {},
          "nuid": "3e942d70-1d86-4f89-b3cb-0357d76f9976",
          "showTitle": false,
          "title": ""
        },
        "execution": {
          "iopub.execute_input": "2024-02-04T17:09:24.412878Z",
          "iopub.status.busy": "2024-02-04T17:09:24.412378Z",
          "iopub.status.idle": "2024-02-04T17:09:24.901980Z",
          "shell.execute_reply": "2024-02-04T17:09:24.901221Z"
        },
        "id": "LcsU_9pCdbVx"
      },
      "outputs": [],
      "source": [
        "from databricks.automl_runtime.sklearn.column_selector import ColumnSelector\n",
        "supported_cols = [\"Age\", \"BloodPressure\", \"Insulin\", \"BMI\", \"SkinThickness\", \"DiabetesPedigreeFunction\", \"Pregnancies\", \"Glucose\"]\n",
        "col_selector = ColumnSelector(supported_cols)"
      ]
    },
    {
      "cell_type": "markdown",
      "metadata": {
        "application/vnd.databricks.v1+cell": {
          "cellMetadata": {},
          "inputWidgets": {},
          "nuid": "e2d5634c-2bac-4fc9-9d69-41c1ed2863b3",
          "showTitle": false,
          "title": ""
        },
        "id": "MqL3XTX7dbVx"
      },
      "source": [
        "## Preprocessors"
      ]
    },
    {
      "cell_type": "markdown",
      "metadata": {
        "application/vnd.databricks.v1+cell": {
          "cellMetadata": {},
          "inputWidgets": {},
          "nuid": "bcf76e04-09f3-48de-8342-047af18a361c",
          "showTitle": false,
          "title": ""
        },
        "id": "yFClYTZ4dbVx"
      },
      "source": [
        "### Numerical columns\n",
        "\n",
        "Missing values for numerical columns are imputed with mean by default."
      ]
    },
    {
      "cell_type": "code",
      "execution_count": null,
      "metadata": {
        "application/vnd.databricks.v1+cell": {
          "cellMetadata": {},
          "inputWidgets": {},
          "nuid": "e50e4776-c831-4d9f-b4f3-96b7a2bf75c8",
          "showTitle": false,
          "title": ""
        },
        "execution": {
          "iopub.execute_input": "2024-02-04T17:09:24.906507Z",
          "iopub.status.busy": "2024-02-04T17:09:24.905733Z",
          "iopub.status.idle": "2024-02-04T17:09:24.914301Z",
          "shell.execute_reply": "2024-02-04T17:09:24.913495Z"
        },
        "id": "r9IrvX2KdbVy"
      },
      "outputs": [],
      "source": [
        "from sklearn.compose import ColumnTransformer\n",
        "from sklearn.impute import SimpleImputer\n",
        "from sklearn.pipeline import Pipeline\n",
        "from sklearn.preprocessing import FunctionTransformer, StandardScaler\n",
        "\n",
        "num_imputers = []\n",
        "num_imputers.append((\"impute_mean\", SimpleImputer(), [\"Age\", \"BMI\", \"BloodPressure\", \"DiabetesPedigreeFunction\", \"Glucose\", \"Insulin\", \"Pregnancies\", \"SkinThickness\"]))\n",
        "\n",
        "numerical_pipeline = Pipeline(steps=[\n",
        "    (\"converter\", FunctionTransformer(lambda df: df.apply(pd.to_numeric, errors='coerce'))),\n",
        "    (\"imputers\", ColumnTransformer(num_imputers)),\n",
        "    (\"standardizer\", StandardScaler()),\n",
        "])\n",
        "\n",
        "numerical_transformers = [(\"numerical\", numerical_pipeline, [\"Age\", \"BloodPressure\", \"Insulin\", \"BMI\", \"SkinThickness\", \"DiabetesPedigreeFunction\", \"Pregnancies\", \"Glucose\"])]"
      ]
    },
    {
      "cell_type": "code",
      "execution_count": null,
      "metadata": {
        "application/vnd.databricks.v1+cell": {
          "cellMetadata": {},
          "inputWidgets": {},
          "nuid": "97cd190d-065b-40df-a56b-61e7b619c5c7",
          "showTitle": false,
          "title": ""
        },
        "execution": {
          "iopub.execute_input": "2024-02-04T17:09:24.918054Z",
          "iopub.status.busy": "2024-02-04T17:09:24.917517Z",
          "iopub.status.idle": "2024-02-04T17:09:24.930072Z",
          "shell.execute_reply": "2024-02-04T17:09:24.929221Z"
        },
        "id": "-xiwdnHndbVz"
      },
      "outputs": [],
      "source": [
        "from sklearn.compose import ColumnTransformer\n",
        "\n",
        "transformers = numerical_transformers\n",
        "\n",
        "preprocessor = ColumnTransformer(transformers, remainder=\"passthrough\", sparse_threshold=0)"
      ]
    },
    {
      "cell_type": "markdown",
      "metadata": {
        "application/vnd.databricks.v1+cell": {
          "cellMetadata": {},
          "inputWidgets": {},
          "nuid": "d3ac159d-471f-42e4-9f92-fc3109af0120",
          "showTitle": false,
          "title": ""
        },
        "id": "fglvPiLXdbV0"
      },
      "source": [
        "## Train - Validation - Test Split\n",
        "The input data is split by AutoML into 3 sets:\n",
        "- Train (60% of the dataset used to train the model)\n",
        "- Validation (20% of the dataset used to tune the hyperparameters of the model)\n",
        "- Test (20% of the dataset used to report the true performance of the model on an unseen dataset)\n",
        "\n",
        "`_automl_split_col_0000` contains the information of which set a given row belongs to.\n",
        "We use this column to split the dataset into the above 3 sets.\n",
        "The column should not be used for training so it is dropped after split is done."
      ]
    },
    {
      "cell_type": "code",
      "execution_count": null,
      "metadata": {
        "application/vnd.databricks.v1+cell": {
          "cellMetadata": {},
          "inputWidgets": {},
          "nuid": "a99133a3-e1cc-4cdc-a616-065bc1e7ff64",
          "showTitle": false,
          "title": ""
        },
        "execution": {
          "iopub.execute_input": "2024-02-04T17:09:24.935275Z",
          "iopub.status.busy": "2024-02-04T17:09:24.933280Z",
          "iopub.status.idle": "2024-02-04T17:09:24.949269Z",
          "shell.execute_reply": "2024-02-04T17:09:24.948482Z"
        },
        "id": "5YOeBgYzdbV1"
      },
      "outputs": [],
      "source": [
        "# AutoML completed train - validation - test split internally and used _automl_split_col_0000 to specify the set\n",
        "split_train_df = df_loaded.loc[df_loaded._automl_split_col_0000 == \"train\"]\n",
        "split_val_df = df_loaded.loc[df_loaded._automl_split_col_0000 == \"val\"]\n",
        "split_test_df = df_loaded.loc[df_loaded._automl_split_col_0000 == \"test\"]\n",
        "\n",
        "# Separate target column from features and drop _automl_split_col_0000\n",
        "X_train = split_train_df.drop([target_col, \"_automl_split_col_0000\"], axis=1)\n",
        "y_train = split_train_df[target_col]\n",
        "\n",
        "X_val = split_val_df.drop([target_col, \"_automl_split_col_0000\"], axis=1)\n",
        "y_val = split_val_df[target_col]\n",
        "\n",
        "X_test = split_test_df.drop([target_col, \"_automl_split_col_0000\"], axis=1)\n",
        "y_test = split_test_df[target_col]"
      ]
    },
    {
      "cell_type": "markdown",
      "metadata": {
        "application/vnd.databricks.v1+cell": {
          "cellMetadata": {},
          "inputWidgets": {},
          "nuid": "e3ae788e-1d54-46ca-8181-d3c1192075d6",
          "showTitle": false,
          "title": ""
        },
        "id": "rooiJu3udbV2"
      },
      "source": [
        "## Train classification model\n",
        "- Log relevant metrics to MLflow to track runs\n",
        "- All the runs are logged under [this MLflow experiment](#mlflow/experiments/2254848194841967)\n",
        "- Change the model parameters and re-run the training cell to log a different trial to the MLflow experiment\n",
        "- To view the full list of tunable hyperparameters, check the output of the cell below"
      ]
    },
    {
      "cell_type": "code",
      "execution_count": null,
      "metadata": {
        "application/vnd.databricks.v1+cell": {
          "cellMetadata": {},
          "inputWidgets": {},
          "nuid": "c2316187-97fa-4ff4-9129-1256dd62c44f",
          "showTitle": false,
          "title": ""
        },
        "execution": {
          "iopub.execute_input": "2024-02-04T17:09:24.953468Z",
          "iopub.status.busy": "2024-02-04T17:09:24.952916Z",
          "iopub.status.idle": "2024-02-04T17:09:24.986549Z",
          "shell.execute_reply": "2024-02-04T17:09:24.985820Z"
        },
        "id": "Dnl4sg4ydbV2",
        "outputId": "46ff3549-b915-47a9-aaf7-8354c7fddb71"
      },
      "outputs": [
        {
          "output_type": "stream",
          "name": "stdout",
          "text": [
            "Help on class RandomForestClassifier in module sklearn.ensemble._forest:\n\nclass RandomForestClassifier(ForestClassifier)\n |  RandomForestClassifier(n_estimators=100, *, criterion='gini', max_depth=None, min_samples_split=2, min_samples_leaf=1, min_weight_fraction_leaf=0.0, max_features='sqrt', max_leaf_nodes=None, min_impurity_decrease=0.0, bootstrap=True, oob_score=False, n_jobs=None, random_state=None, verbose=0, warm_start=False, class_weight=None, ccp_alpha=0.0, max_samples=None)\n |  \n |  A random forest classifier.\n |  \n |  A random forest is a meta estimator that fits a number of decision tree\n |  classifiers on various sub-samples of the dataset and uses averaging to\n |  improve the predictive accuracy and control over-fitting.\n |  The sub-sample size is controlled with the `max_samples` parameter if\n |  `bootstrap=True` (default), otherwise the whole dataset is used to build\n |  each tree.\n |  \n |  Read more in the :ref:`User Guide <forest>`.\n |  \n |  Parameters\n |  ----------\n |  n_estimators : int, default=100\n |      The number of trees in the forest.\n |  \n |      .. versionchanged:: 0.22\n |         The default value of ``n_estimators`` changed from 10 to 100\n |         in 0.22.\n |  \n |  criterion : {\"gini\", \"entropy\", \"log_loss\"}, default=\"gini\"\n |      The function to measure the quality of a split. Supported criteria are\n |      \"gini\" for the Gini impurity and \"log_loss\" and \"entropy\" both for the\n |      Shannon information gain, see :ref:`tree_mathematical_formulation`.\n |      Note: This parameter is tree-specific.\n |  \n |  max_depth : int, default=None\n |      The maximum depth of the tree. If None, then nodes are expanded until\n |      all leaves are pure or until all leaves contain less than\n |      min_samples_split samples.\n |  \n |  min_samples_split : int or float, default=2\n |      The minimum number of samples required to split an internal node:\n |  \n |      - If int, then consider `min_samples_split` as the minimum number.\n |      - If float, then `min_samples_split` is a fraction and\n |        `ceil(min_samples_split * n_samples)` are the minimum\n |        number of samples for each split.\n |  \n |      .. versionchanged:: 0.18\n |         Added float values for fractions.\n |  \n |  min_samples_leaf : int or float, default=1\n |      The minimum number of samples required to be at a leaf node.\n |      A split point at any depth will only be considered if it leaves at\n |      least ``min_samples_leaf`` training samples in each of the left and\n |      right branches.  This may have the effect of smoothing the model,\n |      especially in regression.\n |  \n |      - If int, then consider `min_samples_leaf` as the minimum number.\n |      - If float, then `min_samples_leaf` is a fraction and\n |        `ceil(min_samples_leaf * n_samples)` are the minimum\n |        number of samples for each node.\n |  \n |      .. versionchanged:: 0.18\n |         Added float values for fractions.\n |  \n |  min_weight_fraction_leaf : float, default=0.0\n |      The minimum weighted fraction of the sum total of weights (of all\n |      the input samples) required to be at a leaf node. Samples have\n |      equal weight when sample_weight is not provided.\n |  \n |  max_features : {\"sqrt\", \"log2\", None}, int or float, default=\"sqrt\"\n |      The number of features to consider when looking for the best split:\n |  \n |      - If int, then consider `max_features` features at each split.\n |      - If float, then `max_features` is a fraction and\n |        `round(max_features * n_features)` features are considered at each\n |        split.\n |      - If \"auto\", then `max_features=sqrt(n_features)`.\n |      - If \"sqrt\", then `max_features=sqrt(n_features)`.\n |      - If \"log2\", then `max_features=log2(n_features)`.\n |      - If None, then `max_features=n_features`.\n |  \n |      .. versionchanged:: 1.1\n |          The default of `max_features` changed from `\"auto\"` to `\"sqrt\"`.\n |  \n |      .. deprecated:: 1.1\n |          The `\"auto\"` option was deprecated in 1.1 and will be removed\n |          in 1.3.\n |  \n |      Note: the search for a split does not stop until at least one\n |      valid partition of the node samples is found, even if it requires to\n |      effectively inspect more than ``max_features`` features.\n |  \n |  max_leaf_nodes : int, default=None\n |      Grow trees with ``max_leaf_nodes`` in best-first fashion.\n |      Best nodes are defined as relative reduction in impurity.\n |      If None then unlimited number of leaf nodes.\n |  \n |  min_impurity_decrease : float, default=0.0\n |      A node will be split if this split induces a decrease of the impurity\n |      greater than or equal to this value.\n |  \n |      The weighted impurity decrease equation is the following::\n |  \n |          N_t / N * (impurity - N_t_R / N_t * right_impurity\n |                              - N_t_L / N_t * left_impurity)\n |  \n |      where ``N`` is the total number of samples, ``N_t`` is the number of\n |      samples at the current node, ``N_t_L`` is the number of samples in the\n |      left child, and ``N_t_R`` is the number of samples in the right child.\n |  \n |      ``N``, ``N_t``, ``N_t_R`` and ``N_t_L`` all refer to the weighted sum,\n |      if ``sample_weight`` is passed.\n |  \n |      .. versionadded:: 0.19\n |  \n |  bootstrap : bool, default=True\n |      Whether bootstrap samples are used when building trees. If False, the\n |      whole dataset is used to build each tree.\n |  \n |  oob_score : bool, default=False\n |      Whether to use out-of-bag samples to estimate the generalization score.\n |      Only available if bootstrap=True.\n |  \n |  n_jobs : int, default=None\n |      The number of jobs to run in parallel. :meth:`fit`, :meth:`predict`,\n |      :meth:`decision_path` and :meth:`apply` are all parallelized over the\n |      trees. ``None`` means 1 unless in a :obj:`joblib.parallel_backend`\n |      context. ``-1`` means using all processors. See :term:`Glossary\n |      <n_jobs>` for more details.\n |  \n |  random_state : int, RandomState instance or None, default=None\n |      Controls both the randomness of the bootstrapping of the samples used\n |      when building trees (if ``bootstrap=True``) and the sampling of the\n |      features to consider when looking for the best split at each node\n |      (if ``max_features < n_features``).\n |      See :term:`Glossary <random_state>` for details.\n |  \n |  verbose : int, default=0\n |      Controls the verbosity when fitting and predicting.\n |  \n |  warm_start : bool, default=False\n |      When set to ``True``, reuse the solution of the previous call to fit\n |      and add more estimators to the ensemble, otherwise, just fit a whole\n |      new forest. See :term:`the Glossary <warm_start>`.\n |  \n |  class_weight : {\"balanced\", \"balanced_subsample\"}, dict or list of dicts,             default=None\n |      Weights associated with classes in the form ``{class_label: weight}``.\n |      If not given, all classes are supposed to have weight one. For\n |      multi-output problems, a list of dicts can be provided in the same\n |      order as the columns of y.\n |  \n |      Note that for multioutput (including multilabel) weights should be\n |      defined for each class of every column in its own dict. For example,\n |      for four-class multilabel classification weights should be\n |      [{0: 1, 1: 1}, {0: 1, 1: 5}, {0: 1, 1: 1}, {0: 1, 1: 1}] instead of\n |      [{1:1}, {2:5}, {3:1}, {4:1}].\n |  \n |      The \"balanced\" mode uses the values of y to automatically adjust\n |      weights inversely proportional to class frequencies in the input data\n |      as ``n_samples / (n_classes * np.bincount(y))``\n |  \n |      The \"balanced_subsample\" mode is the same as \"balanced\" except that\n |      weights are computed based on the bootstrap sample for every tree\n |      grown.\n |  \n |      For multi-output, the weights of each column of y will be multiplied.\n |  \n |      Note that these weights will be multiplied with sample_weight (passed\n |      through the fit method) if sample_weight is specified.\n |  \n |  ccp_alpha : non-negative float, default=0.0\n |      Complexity parameter used for Minimal Cost-Complexity Pruning. The\n |      subtree with the largest cost complexity that is smaller than\n |      ``ccp_alpha`` will be chosen. By default, no pruning is performed. See\n |      :ref:`minimal_cost_complexity_pruning` for details.\n |  \n |      .. versionadded:: 0.22\n |  \n |  max_samples : int or float, default=None\n |      If bootstrap is True, the number of samples to draw from X\n |      to train each base estimator.\n |  \n |      - If None (default), then draw `X.shape[0]` samples.\n |      - If int, then draw `max_samples` samples.\n |      - If float, then draw `max_samples * X.shape[0]` samples. Thus,\n |        `max_samples` should be in the interval `(0.0, 1.0]`.\n |  \n |      .. versionadded:: 0.22\n |  \n |  Attributes\n |  ----------\n |  base_estimator_ : DecisionTreeClassifier\n |      The child estimator template used to create the collection of fitted\n |      sub-estimators.\n |  \n |  estimators_ : list of DecisionTreeClassifier\n |      The collection of fitted sub-estimators.\n |  \n |  classes_ : ndarray of shape (n_classes,) or a list of such arrays\n |      The classes labels (single output problem), or a list of arrays of\n |      class labels (multi-output problem).\n |  \n |  n_classes_ : int or list\n |      The number of classes (single output problem), or a list containing the\n |      number of classes for each output (multi-output problem).\n |  \n |  n_features_ : int\n |      The number of features when ``fit`` is performed.\n |  \n |      .. deprecated:: 1.0\n |          Attribute `n_features_` was deprecated in version 1.0 and will be\n |          removed in 1.2. Use `n_features_in_` instead.\n |  \n |  n_features_in_ : int\n |      Number of features seen during :term:`fit`.\n |  \n |      .. versionadded:: 0.24\n |  \n |  feature_names_in_ : ndarray of shape (`n_features_in_`,)\n |      Names of features seen during :term:`fit`. Defined only when `X`\n |      has feature names that are all strings.\n |  \n |      .. versionadded:: 1.0\n |  \n |  n_outputs_ : int\n |      The number of outputs when ``fit`` is performed.\n |  \n |  feature_importances_ : ndarray of shape (n_features,)\n |      The impurity-based feature importances.\n |      The higher, the more important the feature.\n |      The importance of a feature is computed as the (normalized)\n |      total reduction of the criterion brought by that feature.  It is also\n |      known as the Gini importance.\n |  \n |      Warning: impurity-based feature importances can be misleading for\n |      high cardinality features (many unique values). See\n |      :func:`sklearn.inspection.permutation_importance` as an alternative.\n |  \n |  oob_score_ : float\n |      Score of the training dataset obtained using an out-of-bag estimate.\n |      This attribute exists only when ``oob_score`` is True.\n |  \n |  oob_decision_function_ : ndarray of shape (n_samples, n_classes) or             (n_samples, n_classes, n_outputs)\n |      Decision function computed with out-of-bag estimate on the training\n |      set. If n_estimators is small it might be possible that a data point\n |      was never left out during the bootstrap. In this case,\n |      `oob_decision_function_` might contain NaN. This attribute exists\n |      only when ``oob_score`` is True.\n |  \n |  See Also\n |  --------\n |  sklearn.tree.DecisionTreeClassifier : A decision tree classifier.\n |  sklearn.ensemble.ExtraTreesClassifier : Ensemble of extremely randomized\n |      tree classifiers.\n |  \n |  Notes\n |  -----\n |  The default values for the parameters controlling the size of the trees\n |  (e.g. ``max_depth``, ``min_samples_leaf``, etc.) lead to fully grown and\n |  unpruned trees which can potentially be very large on some data sets. To\n |  reduce memory consumption, the complexity and size of the trees should be\n |  controlled by setting those parameter values.\n |  \n |  The features are always randomly permuted at each split. Therefore,\n |  the best found split may vary, even with the same training data,\n |  ``max_features=n_features`` and ``bootstrap=False``, if the improvement\n |  of the criterion is identical for several splits enumerated during the\n |  search of the best split. To obtain a deterministic behaviour during\n |  fitting, ``random_state`` has to be fixed.\n |  \n |  References\n |  ----------\n |  .. [1] L. Breiman, \"Random Forests\", Machine Learning, 45(1), 5-32, 2001.\n |  \n |  Examples\n |  --------\n |  >>> from sklearn.ensemble import RandomForestClassifier\n |  >>> from sklearn.datasets import make_classification\n |  >>> X, y = make_classification(n_samples=1000, n_features=4,\n |  ...                            n_informative=2, n_redundant=0,\n |  ...                            random_state=0, shuffle=False)\n |  >>> clf = RandomForestClassifier(max_depth=2, random_state=0)\n |  >>> clf.fit(X, y)\n |  RandomForestClassifier(...)\n |  >>> print(clf.predict([[0, 0, 0, 0]]))\n |  [1]\n |  \n |  Method resolution order:\n |      RandomForestClassifier\n |      ForestClassifier\n |      sklearn.base.ClassifierMixin\n |      BaseForest\n |      sklearn.base.MultiOutputMixin\n |      sklearn.ensemble._base.BaseEnsemble\n |      sklearn.base.MetaEstimatorMixin\n |      sklearn.base.BaseEstimator\n |      builtins.object\n |  \n |  Methods defined here:\n |  \n |  __init__(self, n_estimators=100, *, criterion='gini', max_depth=None, min_samples_split=2, min_samples_leaf=1, min_weight_fraction_leaf=0.0, max_features='sqrt', max_leaf_nodes=None, min_impurity_decrease=0.0, bootstrap=True, oob_score=False, n_jobs=None, random_state=None, verbose=0, warm_start=False, class_weight=None, ccp_alpha=0.0, max_samples=None)\n |      Initialize self.  See help(type(self)) for accurate signature.\n |  \n |  ----------------------------------------------------------------------\n |  Data and other attributes defined here:\n |  \n |  __abstractmethods__ = frozenset()\n |  \n |  __annotations__ = {}\n |  \n |  ----------------------------------------------------------------------\n |  Methods inherited from ForestClassifier:\n |  \n |  predict(self, X)\n |      Predict class for X.\n |      \n |      The predicted class of an input sample is a vote by the trees in\n |      the forest, weighted by their probability estimates. That is,\n |      the predicted class is the one with highest mean probability\n |      estimate across the trees.\n |      \n |      Parameters\n |      ----------\n |      X : {array-like, sparse matrix} of shape (n_samples, n_features)\n |          The input samples. Internally, its dtype will be converted to\n |          ``dtype=np.float32``. If a sparse matrix is provided, it will be\n |          converted into a sparse ``csr_matrix``.\n |      \n |      Returns\n |      -------\n |      y : ndarray of shape (n_samples,) or (n_samples, n_outputs)\n |          The predicted classes.\n |  \n |  predict_log_proba(self, X)\n |      Predict class log-probabilities for X.\n |      \n |      The predicted class log-probabilities of an input sample is computed as\n |      the log of the mean predicted class probabilities of the trees in the\n |      forest.\n |      \n |      Parameters\n |      ----------\n |      X : {array-like, sparse matrix} of shape (n_samples, n_features)\n |          The input samples. Internally, its dtype will be converted to\n |          ``dtype=np.float32``. If a sparse matrix is provided, it will be\n |          converted into a sparse ``csr_matrix``.\n |      \n |      Returns\n |      -------\n |      p : ndarray of shape (n_samples, n_classes), or a list of such arrays\n |          The class probabilities of the input samples. The order of the\n |          classes corresponds to that in the attribute :term:`classes_`.\n |  \n |  predict_proba(self, X)\n |      Predict class probabilities for X.\n |      \n |      The predicted class probabilities of an input sample are computed as\n |      the mean predicted class probabilities of the trees in the forest.\n |      The class probability of a single tree is the fraction of samples of\n |      the same class in a leaf.\n |      \n |      Parameters\n |      ----------\n |      X : {array-like, sparse matrix} of shape (n_samples, n_features)\n |          The input samples. Internally, its dtype will be converted to\n |          ``dtype=np.float32``. If a sparse matrix is provided, it will be\n |          converted into a sparse ``csr_matrix``.\n |      \n |      Returns\n |      -------\n |      p : ndarray of shape (n_samples, n_classes), or a list of such arrays\n |          The class probabilities of the input samples. The order of the\n |          classes corresponds to that in the attribute :term:`classes_`.\n |  \n |  ----------------------------------------------------------------------\n |  Methods inherited from sklearn.base.ClassifierMixin:\n |  \n |  score(self, X, y, sample_weight=None)\n |      Return the mean accuracy on the given test data and labels.\n |      \n |      In multi-label classification, this is the subset accuracy\n |      which is a harsh metric since you require for each sample that\n |      each label set be correctly predicted.\n |      \n |      Parameters\n |      ----------\n |      X : array-like of shape (n_samples, n_features)\n |          Test samples.\n |      \n |      y : array-like of shape (n_samples,) or (n_samples, n_outputs)\n |          True labels for `X`.\n |      \n |      sample_weight : array-like of shape (n_samples,), default=None\n |          Sample weights.\n |      \n |      Returns\n |      -------\n |      score : float\n |          Mean accuracy of ``self.predict(X)`` wrt. `y`.\n |  \n |  ----------------------------------------------------------------------\n |  Data descriptors inherited from sklearn.base.ClassifierMixin:\n |  \n |  __dict__\n |      dictionary for instance variables (if defined)\n |  \n |  __weakref__\n |      list of weak references to the object (if defined)\n |  \n |  ----------------------------------------------------------------------\n |  Methods inherited from BaseForest:\n |  \n |  apply(self, X)\n |      Apply trees in the forest to X, return leaf indices.\n |      \n |      Parameters\n |      ----------\n |      X : {array-like, sparse matrix} of shape (n_samples, n_features)\n |          The input samples. Internally, its dtype will be converted to\n |          ``dtype=np.float32``. If a sparse matrix is provided, it will be\n |          converted into a sparse ``csr_matrix``.\n |      \n |      Returns\n |      -------\n |      X_leaves : ndarray of shape (n_samples, n_estimators)\n |          For each datapoint x in X and for each tree in the forest,\n |          return the index of the leaf x ends up in.\n |  \n |  decision_path(self, X)\n |      Return the decision path in the forest.\n |      \n |      .. versionadded:: 0.18\n |      \n |      Parameters\n |      ----------\n |      X : {array-like, sparse matrix} of shape (n_samples, n_features)\n |          The input samples. Internally, its dtype will be converted to\n |          ``dtype=np.float32``. If a sparse matrix is provided, it will be\n |          converted into a sparse ``csr_matrix``.\n |      \n |      Returns\n |      -------\n |      indicator : sparse matrix of shape (n_samples, n_nodes)\n |          Return a node indicator matrix where non zero elements indicates\n |          that the samples goes through the nodes. The matrix is of CSR\n |          format.\n |      \n |      n_nodes_ptr : ndarray of shape (n_estimators + 1,)\n |          The columns from indicator[n_nodes_ptr[i]:n_nodes_ptr[i+1]]\n |          gives the indicator value for the i-th estimator.\n |  \n |  fit(self, X, y, sample_weight=None)\n |      Build a forest of trees from the training set (X, y).\n |      \n |      Parameters\n |      ----------\n |      X : {array-like, sparse matrix} of shape (n_samples, n_features)\n |          The training input samples. Internally, its dtype will be converted\n |          to ``dtype=np.float32``. If a sparse matrix is provided, it will be\n |          converted into a sparse ``csc_matrix``.\n |      \n |      y : array-like of shape (n_samples,) or (n_samples, n_outputs)\n |          The target values (class labels in classification, real numbers in\n |          regression).\n |      \n |      sample_weight : array-like of shape (n_samples,), default=None\n |          Sample weights. If None, then samples are equally weighted. Splits\n |          that would create child nodes with net zero or negative weight are\n |          ignored while searching for a split in each node. In the case of\n |          classification, splits are also ignored if they would result in any\n |          single class carrying a negative weight in either child node.\n |      \n |      Returns\n |      -------\n |      self : object\n |          Fitted estimator.\n |  \n |  ----------------------------------------------------------------------\n |  Readonly properties inherited from BaseForest:\n |  \n |  feature_importances_\n |      The impurity-based feature importances.\n |      \n |      The higher, the more important the feature.\n |      The importance of a feature is computed as the (normalized)\n |      total reduction of the criterion brought by that feature.  It is also\n |      known as the Gini importance.\n |      \n |      Warning: impurity-based feature importances can be misleading for\n |      high cardinality features (many unique values). See\n |      :func:`sklearn.inspection.permutation_importance` as an alternative.\n |      \n |      Returns\n |      -------\n |      feature_importances_ : ndarray of shape (n_features,)\n |          The values of this array sum to 1, unless all trees are single node\n |          trees consisting of only the root node, in which case it will be an\n |          array of zeros.\n |  \n |  n_features_\n |      DEPRECATED: Attribute `n_features_` was deprecated in version 1.0 and will be removed in 1.2. Use `n_features_in_` instead.\n |      \n |      Number of features when fitting the estimator.\n |  \n |  ----------------------------------------------------------------------\n |  Methods inherited from sklearn.ensemble._base.BaseEnsemble:\n |  \n |  __getitem__(self, index)\n |      Return the index'th estimator in the ensemble.\n |  \n |  __iter__(self)\n |      Return iterator over estimators in the ensemble.\n |  \n |  __len__(self)\n |      Return the number of estimators in the ensemble.\n |  \n |  ----------------------------------------------------------------------\n |  Methods inherited from sklearn.base.BaseEstimator:\n |  \n |  __getstate__(self)\n |  \n |  __repr__(self, N_CHAR_MAX=700)\n |      Return repr(self).\n |  \n |  __setstate__(self, state)\n |  \n |  get_params(self, deep=True)\n |      Get parameters for this estimator.\n |      \n |      Parameters\n |      ----------\n |      deep : bool, default=True\n |          If True, will return the parameters for this estimator and\n |          contained subobjects that are estimators.\n |      \n |      Returns\n |      -------\n |      params : dict\n |          Parameter names mapped to their values.\n |  \n |  set_params(self, **params)\n |      Set the parameters of this estimator.\n |      \n |      The method works on simple estimators as well as on nested objects\n |      (such as :class:`~sklearn.pipeline.Pipeline`). The latter have\n |      parameters of the form ``<component>__<parameter>`` so that it's\n |      possible to update each component of a nested object.\n |      \n |      Parameters\n |      ----------\n |      **params : dict\n |          Estimator parameters.\n |      \n |      Returns\n |      -------\n |      self : estimator instance\n |          Estimator instance.\n\n"
          ]
        }
      ],
      "source": [
        "from sklearn.ensemble import RandomForestClassifier\n",
        "\n",
        "help(RandomForestClassifier)"
      ]
    },
    {
      "cell_type": "markdown",
      "metadata": {
        "application/vnd.databricks.v1+cell": {
          "cellMetadata": {},
          "inputWidgets": {},
          "nuid": "216221a5-c501-4326-8d2c-80a5a7dfb548",
          "showTitle": false,
          "title": ""
        },
        "id": "spoPIg6JdbV2"
      },
      "source": [
        "### Define the objective function\n",
        "The objective function used to find optimal hyperparameters. By default, this notebook only runs\n",
        "this function once (`max_evals=1` in the `hyperopt.fmin` invocation) with fixed hyperparameters, but\n",
        "hyperparameters can be tuned by modifying `space`, defined below. `hyperopt.fmin` will then use this\n",
        "function's return value to search the space to minimize the loss."
      ]
    },
    {
      "cell_type": "code",
      "execution_count": null,
      "metadata": {
        "application/vnd.databricks.v1+cell": {
          "cellMetadata": {},
          "inputWidgets": {},
          "nuid": "f5c7e694-6e15-4f65-98f5-95f9dfecda77",
          "showTitle": false,
          "title": ""
        },
        "execution": {
          "iopub.execute_input": "2024-02-04T17:09:24.990500Z",
          "iopub.status.busy": "2024-02-04T17:09:24.990201Z",
          "iopub.status.idle": "2024-02-04T17:09:25.233538Z",
          "shell.execute_reply": "2024-02-04T17:09:25.232752Z"
        },
        "id": "fdnjhfaodbV3"
      },
      "outputs": [],
      "source": [
        "import mlflow\n",
        "from mlflow.models import Model, infer_signature, ModelSignature\n",
        "from mlflow.pyfunc import PyFuncModel\n",
        "from mlflow import pyfunc\n",
        "import sklearn\n",
        "from sklearn import set_config\n",
        "from sklearn.pipeline import Pipeline\n",
        "\n",
        "from hyperopt import hp, tpe, fmin, STATUS_OK, Trials\n",
        "\n",
        "def objective(params):\n",
        "  with mlflow.start_run(experiment_id=\"2254848194841967\") as mlflow_run:\n",
        "    skrf_classifier = RandomForestClassifier(n_jobs=1, **params)\n",
        "\n",
        "    model = Pipeline([\n",
        "        (\"column_selector\", col_selector),\n",
        "        (\"preprocessor\", preprocessor),\n",
        "        (\"classifier\", skrf_classifier),\n",
        "    ])\n",
        "\n",
        "    # Enable automatic logging of input samples, metrics, parameters, and models\n",
        "    mlflow.sklearn.autolog(\n",
        "        log_input_examples=True,\n",
        "        silent=True)\n",
        "\n",
        "    model.fit(X_train, y_train)\n",
        "\n",
        "\n",
        "    # Log metrics for the training set\n",
        "    mlflow_model = Model()\n",
        "    pyfunc.add_to_model(mlflow_model, loader_module=\"mlflow.sklearn\")\n",
        "    pyfunc_model = PyFuncModel(model_meta=mlflow_model, model_impl=model)\n",
        "    training_eval_result = mlflow.evaluate(\n",
        "        model=pyfunc_model,\n",
        "        data=X_train.assign(**{str(target_col):y_train}),\n",
        "        targets=target_col,\n",
        "        model_type=\"classifier\",\n",
        "        evaluator_config = {\"log_model_explainability\": False,\n",
        "                            \"metric_prefix\": \"training_\" , \"pos_label\": 1 }\n",
        "    )\n",
        "    skrf_training_metrics = training_eval_result.metrics\n",
        "    # Log metrics for the validation set\n",
        "    val_eval_result = mlflow.evaluate(\n",
        "        model=pyfunc_model,\n",
        "        data=X_val.assign(**{str(target_col):y_val}),\n",
        "        targets=target_col,\n",
        "        model_type=\"classifier\",\n",
        "        evaluator_config = {\"log_model_explainability\": False,\n",
        "                            \"metric_prefix\": \"val_\" , \"pos_label\": 1 }\n",
        "    )\n",
        "    skrf_val_metrics = val_eval_result.metrics\n",
        "    # Log metrics for the test set\n",
        "    test_eval_result = mlflow.evaluate(\n",
        "        model=pyfunc_model,\n",
        "        data=X_test.assign(**{str(target_col):y_test}),\n",
        "        targets=target_col,\n",
        "        model_type=\"classifier\",\n",
        "        evaluator_config = {\"log_model_explainability\": False,\n",
        "                            \"metric_prefix\": \"test_\" , \"pos_label\": 1 }\n",
        "    )\n",
        "    skrf_test_metrics = test_eval_result.metrics\n",
        "\n",
        "    loss = -skrf_val_metrics[\"val_f1_score\"]\n",
        "\n",
        "    # Truncate metric key names so they can be displayed together\n",
        "    skrf_val_metrics = {k.replace(\"val_\", \"\"): v for k, v in skrf_val_metrics.items()}\n",
        "    skrf_test_metrics = {k.replace(\"test_\", \"\"): v for k, v in skrf_test_metrics.items()}\n",
        "\n",
        "    return {\n",
        "      \"loss\": loss,\n",
        "      \"status\": STATUS_OK,\n",
        "      \"val_metrics\": skrf_val_metrics,\n",
        "      \"test_metrics\": skrf_test_metrics,\n",
        "      \"model\": model,\n",
        "      \"run\": mlflow_run,\n",
        "    }"
      ]
    },
    {
      "cell_type": "markdown",
      "metadata": {
        "application/vnd.databricks.v1+cell": {
          "cellMetadata": {},
          "inputWidgets": {},
          "nuid": "91b9b20d-9802-4cad-9249-005ecd3800aa",
          "showTitle": false,
          "title": ""
        },
        "id": "aDizpC_TdbV4"
      },
      "source": [
        "### Configure the hyperparameter search space\n",
        "Configure the search space of parameters. Parameters below are all constant expressions but can be\n",
        "modified to widen the search space. For example, when training a decision tree classifier, to allow\n",
        "the maximum tree depth to be either 2 or 3, set the key of 'max_depth' to\n",
        "`hp.choice('max_depth', [2, 3])`. Be sure to also increase `max_evals` in the `fmin` call below.\n",
        "\n",
        "See https://docs.databricks.com/applications/machine-learning/automl-hyperparam-tuning/index.html\n",
        "for more information on hyperparameter tuning as well as\n",
        "http://hyperopt.github.io/hyperopt/getting-started/search_spaces/ for documentation on supported\n",
        "search expressions.\n",
        "\n",
        "For documentation on parameters used by the model in use, please see:\n",
        "https://scikit-learn.org/stable/modules/generated/sklearn.ensemble.RandomForestClassifier.html\n",
        "\n",
        "NOTE: The above URL points to a stable version of the documentation corresponding to the last\n",
        "released version of the package. The documentation may differ slightly for the package version\n",
        "used by this notebook."
      ]
    },
    {
      "cell_type": "code",
      "execution_count": null,
      "metadata": {
        "application/vnd.databricks.v1+cell": {
          "cellMetadata": {},
          "inputWidgets": {},
          "nuid": "e63de390-5f83-4f74-9ab2-4e9cebea4d05",
          "showTitle": false,
          "title": ""
        },
        "execution": {
          "iopub.execute_input": "2024-02-04T17:09:25.237305Z",
          "iopub.status.busy": "2024-02-04T17:09:25.237018Z",
          "iopub.status.idle": "2024-02-04T17:09:25.242523Z",
          "shell.execute_reply": "2024-02-04T17:09:25.241777Z"
        },
        "id": "KcPByGrydbV4"
      },
      "outputs": [],
      "source": [
        "space = {\n",
        "  \"bootstrap\": False,\n",
        "  \"criterion\": \"gini\",\n",
        "  \"max_depth\": 10,\n",
        "  \"max_features\": 0.7677449424788753,\n",
        "  \"min_samples_leaf\": 0.04442193235296439,\n",
        "  \"min_samples_split\": 0.3428752008664911,\n",
        "  \"n_estimators\": 19,\n",
        "  \"random_state\": 331372508,\n",
        "}"
      ]
    },
    {
      "cell_type": "markdown",
      "metadata": {
        "application/vnd.databricks.v1+cell": {
          "cellMetadata": {},
          "inputWidgets": {},
          "nuid": "a71b4e80-e015-4568-93a4-0f3b55e7645c",
          "showTitle": false,
          "title": ""
        },
        "id": "Xs2zpKLEdbV5"
      },
      "source": [
        "### Run trials\n",
        "When widening the search space and training multiple models, switch to `SparkTrials` to parallelize\n",
        "training on Spark:\n",
        "```\n",
        "from hyperopt import SparkTrials\n",
        "trials = SparkTrials()\n",
        "```\n",
        "\n",
        "NOTE: While `Trials` starts an MLFlow run for each set of hyperparameters, `SparkTrials` only starts\n",
        "one top-level run; it will start a subrun for each set of hyperparameters.\n",
        "\n",
        "See http://hyperopt.github.io/hyperopt/scaleout/spark/ for more info."
      ]
    },
    {
      "cell_type": "code",
      "execution_count": null,
      "metadata": {
        "application/vnd.databricks.v1+cell": {
          "cellMetadata": {},
          "inputWidgets": {},
          "nuid": "85a2b4cd-e0d3-49de-8589-0bc3a793a84d",
          "showTitle": false,
          "title": ""
        },
        "execution": {
          "iopub.execute_input": "2024-02-04T17:09:25.245750Z",
          "iopub.status.busy": "2024-02-04T17:09:25.245120Z",
          "iopub.status.idle": "2024-02-04T17:10:24.989071Z",
          "shell.execute_reply": "2024-02-04T17:10:24.988281Z"
        },
        "id": "GU6pFBObdbV5",
        "outputId": "113de8f8-3524-42c0-c364-00d6aa547e70",
        "colab": {
          "referenced_widgets": [
            "1f12488d81354c298a92d2fef87bab94",
            "e091afc457ce4f96899b977259d66b00"
          ]
        }
      },
      "outputs": [
        {
          "output_type": "stream",
          "name": "stdout",
          "text": [
            "\r  0%|          | 0/1 [00:00<?, ?trial/s, best loss=?]"
          ]
        },
        {
          "output_type": "stream",
          "name": "stdout",
          "text": [
            "WARN StatusConsoleListener The use of package scanning to locate plugins is deprecated and will be removed in a future release\n"
          ]
        },
        {
          "output_type": "stream",
          "name": "stdout",
          "text": [
            "WARN StatusConsoleListener The use of package scanning to locate plugins is deprecated and will be removed in a future release\nWARN StatusConsoleListener The use of package scanning to locate plugins is deprecated and will be removed in a future release\nWARN StatusConsoleListener The use of package scanning to locate plugins is deprecated and will be removed in a future release\nWARN StatusConsoleListener RollingFileAppender 'publicFile.rolling': The bufferSize is set to 8192 but bufferedIO is not true\n"
          ]
        },
        {
          "output_type": "stream",
          "name": "stdout",
          "text": [
            "WARN StatusConsoleListener RollingFileAppender 'privateFile.rolling': The bufferSize is set to 8192 but bufferedIO is not true\n"
          ]
        },
        {
          "output_type": "stream",
          "name": "stdout",
          "text": [
            "WARN StatusConsoleListener RollingFileAppender 'com.databricks.UsageLogging.appender': The bufferSize is set to 8192 but bufferedIO is not true\nWARN StatusConsoleListener RollingFileAppender 'com.databricks.EventLoggingStats.appender': The bufferSize is set to 8192 but bufferedIO is not true\nWARN StatusConsoleListener RollingFileAppender 'com.databricks.ProductLogging.appender': The bufferSize is set to 8192 but bufferedIO is not true\n"
          ]
        },
        {
          "output_type": "stream",
          "name": "stdout",
          "text": [
            "WARN StatusConsoleListener RollingFileAppender 'com.databricks.LineageLogging.appender': The bufferSize is set to 8192 but bufferedIO is not true\nWARN StatusConsoleListener RollingFileAppender 'com.databricks.MetricsLogging.appender': The bufferSize is set to 8192 but bufferedIO is not true\n"
          ]
        },
        {
          "output_type": "stream",
          "name": "stdout",
          "text": [
            "WARN StatusConsoleListener RollingFileAppender 'dltExecution.rolling': The bufferSize is set to 8192 but bufferedIO is not true\n"
          ]
        },
        {
          "output_type": "stream",
          "name": "stderr",
          "text": [
            "Setting default log level to \"WARN\".\nTo adjust logging level use sc.setLogLevel(newLevel). For SparkR, use setLogLevel(newLevel).\n"
          ]
        },
        {
          "output_type": "stream",
          "name": "stderr",
          "text": [
            "chown: invalid group: ‘:spark-users’\n"
          ]
        },
        {
          "output_type": "display_data",
          "data": {
            "application/vnd.jupyter.widget-view+json": {
              "model_id": "1f12488d81354c298a92d2fef87bab94",
              "version_major": 2,
              "version_minor": 0
            },
            "text/plain": [
              "Uploading artifacts:   0%|          | 0/3 [00:00<?, ?it/s]"
            ]
          },
          "metadata": {}
        },
        {
          "output_type": "display_data",
          "data": {
            "application/vnd.jupyter.widget-view+json": {
              "model_id": "e091afc457ce4f96899b977259d66b00",
              "version_major": 2,
              "version_minor": 0
            },
            "text/plain": [
              "Uploading artifacts:   0%|          | 0/6 [00:00<?, ?it/s]"
            ]
          },
          "metadata": {}
        },
        {
          "output_type": "stream",
          "name": "stderr",
          "text": [
            "/databricks/python/lib/python3.10/site-packages/mlflow/data/pandas_dataset.py:134: UserWarning: Hint: Inferred schema contains integer column(s). Integer columns in Python cannot represent missing values. If your input data contains missing values at inference time, it will be encoded as floats and will cause a schema enforcement error. The best way to avoid this problem is to infer the model schema based on a realistic data sample (training dataset) that includes missing values. Alternatively, you can declare integer columns as doubles (float64) whenever these columns may have missing values. See `Handling Integers With Missing Values <https://www.mlflow.org/docs/latest/models.html#handling-integers-with-missing-values>`_ for more details.\n  return _infer_schema(self._df)\n\n"
          ]
        },
        {
          "output_type": "stream",
          "name": "stderr",
          "text": [
            "2024/02/04 17:10:10 INFO mlflow.models.evaluation.base: Evaluating the model with the default evaluator.\n\n"
          ]
        },
        {
          "output_type": "stream",
          "name": "stderr",
          "text": [
            "2024/02/04 17:10:10 INFO mlflow.models.evaluation.default_evaluator: Computing model predictions.\n\n"
          ]
        },
        {
          "output_type": "stream",
          "name": "stderr",
          "text": [
            "2024/02/04 17:10:10 INFO mlflow.models.evaluation.default_evaluator: The evaluation dataset is inferred as binary dataset, positive label is 1, negative label is 0.\n\n"
          ]
        },
        {
          "output_type": "stream",
          "name": "stderr",
          "text": [
            "2024/02/04 17:10:10 INFO mlflow.models.evaluation.default_evaluator: Testing metrics on first row...\n\n"
          ]
        },
        {
          "output_type": "stream",
          "name": "stderr",
          "text": [
            "/databricks/python/lib/python3.10/site-packages/mlflow/data/pandas_dataset.py:134: UserWarning: Hint: Inferred schema contains integer column(s). Integer columns in Python cannot represent missing values. If your input data contains missing values at inference time, it will be encoded as floats and will cause a schema enforcement error. The best way to avoid this problem is to infer the model schema based on a realistic data sample (training dataset) that includes missing values. Alternatively, you can declare integer columns as doubles (float64) whenever these columns may have missing values. See `Handling Integers With Missing Values <https://www.mlflow.org/docs/latest/models.html#handling-integers-with-missing-values>`_ for more details.\n  return _infer_schema(self._df)\n\n"
          ]
        },
        {
          "output_type": "stream",
          "name": "stderr",
          "text": [
            "2024/02/04 17:10:15 INFO mlflow.models.evaluation.base: Evaluating the model with the default evaluator.\n\n"
          ]
        },
        {
          "output_type": "stream",
          "name": "stderr",
          "text": [
            "2024/02/04 17:10:15 INFO mlflow.models.evaluation.default_evaluator: Computing model predictions.\n\n"
          ]
        },
        {
          "output_type": "stream",
          "name": "stderr",
          "text": [
            "2024/02/04 17:10:15 INFO mlflow.models.evaluation.default_evaluator: The evaluation dataset is inferred as binary dataset, positive label is 1, negative label is 0.\n\n"
          ]
        },
        {
          "output_type": "stream",
          "name": "stderr",
          "text": [
            "2024/02/04 17:10:15 INFO mlflow.models.evaluation.default_evaluator: Testing metrics on first row...\n\n"
          ]
        },
        {
          "output_type": "stream",
          "name": "stderr",
          "text": [
            "/databricks/python/lib/python3.10/site-packages/mlflow/data/pandas_dataset.py:134: UserWarning: Hint: Inferred schema contains integer column(s). Integer columns in Python cannot represent missing values. If your input data contains missing values at inference time, it will be encoded as floats and will cause a schema enforcement error. The best way to avoid this problem is to infer the model schema based on a realistic data sample (training dataset) that includes missing values. Alternatively, you can declare integer columns as doubles (float64) whenever these columns may have missing values. See `Handling Integers With Missing Values <https://www.mlflow.org/docs/latest/models.html#handling-integers-with-missing-values>`_ for more details.\n  return _infer_schema(self._df)\n\n"
          ]
        },
        {
          "output_type": "stream",
          "name": "stderr",
          "text": [
            "2024/02/04 17:10:20 INFO mlflow.models.evaluation.base: Evaluating the model with the default evaluator.\n\n"
          ]
        },
        {
          "output_type": "stream",
          "name": "stderr",
          "text": [
            "2024/02/04 17:10:20 INFO mlflow.models.evaluation.default_evaluator: Computing model predictions.\n\n"
          ]
        },
        {
          "output_type": "stream",
          "name": "stderr",
          "text": [
            "2024/02/04 17:10:20 INFO mlflow.models.evaluation.default_evaluator: The evaluation dataset is inferred as binary dataset, positive label is 1, negative label is 0.\n\n"
          ]
        },
        {
          "output_type": "stream",
          "name": "stderr",
          "text": [
            "2024/02/04 17:10:20 INFO mlflow.models.evaluation.default_evaluator: Testing metrics on first row...\n\n"
          ]
        },
        {
          "output_type": "stream",
          "name": "stdout",
          "text": [
            "\r100%|██████████| 1/1 [00:59<00:00, 59.60s/trial, best loss: -0.6727272727272728]"
          ]
        },
        {
          "output_type": "stream",
          "name": "stdout",
          "text": [
            "\r100%|██████████| 1/1 [00:59<00:00, 59.60s/trial, best loss: -0.6727272727272728]"
          ]
        },
        {
          "output_type": "stream",
          "name": "stdout",
          "text": [
            "\n"
          ]
        },
        {
          "output_type": "display_data",
          "data": {
            "text/html": [
              "<div>\n",
              "<style scoped>\n",
              "    .dataframe tbody tr th:only-of-type {\n",
              "        vertical-align: middle;\n",
              "    }\n",
              "\n",
              "    .dataframe tbody tr th {\n",
              "        vertical-align: top;\n",
              "    }\n",
              "\n",
              "    .dataframe thead th {\n",
              "        text-align: right;\n",
              "    }\n",
              "</style>\n",
              "<table border=\"1\" class=\"dataframe\">\n",
              "  <thead>\n",
              "    <tr style=\"text-align: right;\">\n",
              "      <th></th>\n",
              "      <th>score</th>\n",
              "      <th>true_negatives</th>\n",
              "      <th>false_positives</th>\n",
              "      <th>false_negatives</th>\n",
              "      <th>true_positives</th>\n",
              "      <th>example_count</th>\n",
              "      <th>accuracy_score</th>\n",
              "      <th>recall_score</th>\n",
              "      <th>precision_score</th>\n",
              "      <th>f1_score</th>\n",
              "      <th>log_loss</th>\n",
              "      <th>roc_auc</th>\n",
              "      <th>precision_recall_auc</th>\n",
              "    </tr>\n",
              "  </thead>\n",
              "  <tbody>\n",
              "    <tr>\n",
              "      <th>validation</th>\n",
              "      <td>0.770701</td>\n",
              "      <td>84</td>\n",
              "      <td>21</td>\n",
              "      <td>15</td>\n",
              "      <td>37</td>\n",
              "      <td>157</td>\n",
              "      <td>0.770701</td>\n",
              "      <td>0.711538</td>\n",
              "      <td>0.637931</td>\n",
              "      <td>0.672727</td>\n",
              "      <td>0.512420</td>\n",
              "      <td>0.791117</td>\n",
              "      <td>0.702138</td>\n",
              "    </tr>\n",
              "    <tr>\n",
              "      <th>test</th>\n",
              "      <td>0.753333</td>\n",
              "      <td>83</td>\n",
              "      <td>23</td>\n",
              "      <td>14</td>\n",
              "      <td>30</td>\n",
              "      <td>150</td>\n",
              "      <td>0.753333</td>\n",
              "      <td>0.681818</td>\n",
              "      <td>0.566038</td>\n",
              "      <td>0.618557</td>\n",
              "      <td>0.465839</td>\n",
              "      <td>0.828688</td>\n",
              "      <td>0.655426</td>\n",
              "    </tr>\n",
              "  </tbody>\n",
              "</table>\n",
              "</div>"
            ],
            "text/plain": [
              "               score  true_negatives  false_positives  false_negatives  \\\n",
              "validation  0.770701              84               21               15   \n",
              "test        0.753333              83               23               14   \n",
              "\n",
              "            true_positives  example_count  accuracy_score  recall_score  \\\n",
              "validation              37            157        0.770701      0.711538   \n",
              "test                    30            150        0.753333      0.681818   \n",
              "\n",
              "            precision_score  f1_score  log_loss   roc_auc  \\\n",
              "validation         0.637931  0.672727  0.512420  0.791117   \n",
              "test               0.566038  0.618557  0.465839  0.828688   \n",
              "\n",
              "            precision_recall_auc  \n",
              "validation              0.702138  \n",
              "test                    0.655426  "
            ]
          },
          "metadata": {}
        },
        {
          "output_type": "execute_result",
          "data": {
            "text/html": [
              "<style>#sk-container-id-2 {color: black;background-color: white;}#sk-container-id-2 pre{padding: 0;}#sk-container-id-2 div.sk-toggleable {background-color: white;}#sk-container-id-2 label.sk-toggleable__label {cursor: pointer;display: block;width: 100%;margin-bottom: 0;padding: 0.3em;box-sizing: border-box;text-align: center;}#sk-container-id-2 label.sk-toggleable__label-arrow:before {content: \"▸\";float: left;margin-right: 0.25em;color: #696969;}#sk-container-id-2 label.sk-toggleable__label-arrow:hover:before {color: black;}#sk-container-id-2 div.sk-estimator:hover label.sk-toggleable__label-arrow:before {color: black;}#sk-container-id-2 div.sk-toggleable__content {max-height: 0;max-width: 0;overflow: hidden;text-align: left;background-color: #f0f8ff;}#sk-container-id-2 div.sk-toggleable__content pre {margin: 0.2em;color: black;border-radius: 0.25em;background-color: #f0f8ff;}#sk-container-id-2 input.sk-toggleable__control:checked~div.sk-toggleable__content {max-height: 200px;max-width: 100%;overflow: auto;}#sk-container-id-2 input.sk-toggleable__control:checked~label.sk-toggleable__label-arrow:before {content: \"▾\";}#sk-container-id-2 div.sk-estimator input.sk-toggleable__control:checked~label.sk-toggleable__label {background-color: #d4ebff;}#sk-container-id-2 div.sk-label input.sk-toggleable__control:checked~label.sk-toggleable__label {background-color: #d4ebff;}#sk-container-id-2 input.sk-hidden--visually {border: 0;clip: rect(1px 1px 1px 1px);clip: rect(1px, 1px, 1px, 1px);height: 1px;margin: -1px;overflow: hidden;padding: 0;position: absolute;width: 1px;}#sk-container-id-2 div.sk-estimator {font-family: monospace;background-color: #f0f8ff;border: 1px dotted black;border-radius: 0.25em;box-sizing: border-box;margin-bottom: 0.5em;}#sk-container-id-2 div.sk-estimator:hover {background-color: #d4ebff;}#sk-container-id-2 div.sk-parallel-item::after {content: \"\";width: 100%;border-bottom: 1px solid gray;flex-grow: 1;}#sk-container-id-2 div.sk-label:hover label.sk-toggleable__label {background-color: #d4ebff;}#sk-container-id-2 div.sk-serial::before {content: \"\";position: absolute;border-left: 1px solid gray;box-sizing: border-box;top: 0;bottom: 0;left: 50%;z-index: 0;}#sk-container-id-2 div.sk-serial {display: flex;flex-direction: column;align-items: center;background-color: white;padding-right: 0.2em;padding-left: 0.2em;position: relative;}#sk-container-id-2 div.sk-item {position: relative;z-index: 1;}#sk-container-id-2 div.sk-parallel {display: flex;align-items: stretch;justify-content: center;background-color: white;position: relative;}#sk-container-id-2 div.sk-item::before, #sk-container-id-2 div.sk-parallel-item::before {content: \"\";position: absolute;border-left: 1px solid gray;box-sizing: border-box;top: 0;bottom: 0;left: 50%;z-index: -1;}#sk-container-id-2 div.sk-parallel-item {display: flex;flex-direction: column;z-index: 1;position: relative;background-color: white;}#sk-container-id-2 div.sk-parallel-item:first-child::after {align-self: flex-end;width: 50%;}#sk-container-id-2 div.sk-parallel-item:last-child::after {align-self: flex-start;width: 50%;}#sk-container-id-2 div.sk-parallel-item:only-child::after {width: 0;}#sk-container-id-2 div.sk-dashed-wrapped {border: 1px dashed gray;margin: 0 0.4em 0.5em 0.4em;box-sizing: border-box;padding-bottom: 0.4em;background-color: white;}#sk-container-id-2 div.sk-label label {font-family: monospace;font-weight: bold;display: inline-block;line-height: 1.2em;}#sk-container-id-2 div.sk-label-container {text-align: center;}#sk-container-id-2 div.sk-container {/* jupyter's `normalize.less` sets `[hidden] { display: none; }` but bootstrap.min.css set `[hidden] { display: none !important; }` so we also need the `!important` here to be able to override the default hidden behavior on the sphinx rendered scikit-learn.org. See: https://github.com/scikit-learn/scikit-learn/issues/21755 */display: inline-block !important;position: relative;}#sk-container-id-2 div.sk-text-repr-fallback {display: none;}</style><div id=\"sk-container-id-2\" class=\"sk-top-container\"><div class=\"sk-text-repr-fallback\"><pre>Pipeline(steps=[(&#x27;column_selector&#x27;,\n",
              "                 ColumnSelector(cols=[&#x27;Age&#x27;, &#x27;BloodPressure&#x27;, &#x27;Insulin&#x27;, &#x27;BMI&#x27;,\n",
              "                                      &#x27;SkinThickness&#x27;,\n",
              "                                      &#x27;DiabetesPedigreeFunction&#x27;, &#x27;Pregnancies&#x27;,\n",
              "                                      &#x27;Glucose&#x27;])),\n",
              "                (&#x27;preprocessor&#x27;,\n",
              "                 ColumnTransformer(remainder=&#x27;passthrough&#x27;, sparse_threshold=0,\n",
              "                                   transformers=[(&#x27;numerical&#x27;,\n",
              "                                                  Pipeline(steps=[(&#x27;converter&#x27;,\n",
              "                                                                   FunctionTransformer(func=&lt;function &lt;lambda&gt; at 0x7f17dee...\n",
              "                                                                   StandardScaler())]),\n",
              "                                                  [&#x27;Age&#x27;, &#x27;BloodPressure&#x27;,\n",
              "                                                   &#x27;Insulin&#x27;, &#x27;BMI&#x27;,\n",
              "                                                   &#x27;SkinThickness&#x27;,\n",
              "                                                   &#x27;DiabetesPedigreeFunction&#x27;,\n",
              "                                                   &#x27;Pregnancies&#x27;,\n",
              "                                                   &#x27;Glucose&#x27;])])),\n",
              "                (&#x27;classifier&#x27;,\n",
              "                 RandomForestClassifier(bootstrap=False, max_depth=10,\n",
              "                                        max_features=0.7677449424788753,\n",
              "                                        min_samples_leaf=0.04442193235296439,\n",
              "                                        min_samples_split=0.3428752008664911,\n",
              "                                        n_estimators=19, n_jobs=1,\n",
              "                                        random_state=331372508))])</pre><b>In a Jupyter environment, please rerun this cell to show the HTML representation or trust the notebook. <br />On GitHub, the HTML representation is unable to render, please try loading this page with nbviewer.org.</b></div><div class=\"sk-container\" hidden><div class=\"sk-item sk-dashed-wrapped\"><div class=\"sk-label-container\"><div class=\"sk-label sk-toggleable\"><input class=\"sk-toggleable__control sk-hidden--visually\" id=\"sk-estimator-id-13\" type=\"checkbox\" ><label for=\"sk-estimator-id-13\" class=\"sk-toggleable__label sk-toggleable__label-arrow\">Pipeline</label><div class=\"sk-toggleable__content\"><pre>Pipeline(steps=[(&#x27;column_selector&#x27;,\n",
              "                 ColumnSelector(cols=[&#x27;Age&#x27;, &#x27;BloodPressure&#x27;, &#x27;Insulin&#x27;, &#x27;BMI&#x27;,\n",
              "                                      &#x27;SkinThickness&#x27;,\n",
              "                                      &#x27;DiabetesPedigreeFunction&#x27;, &#x27;Pregnancies&#x27;,\n",
              "                                      &#x27;Glucose&#x27;])),\n",
              "                (&#x27;preprocessor&#x27;,\n",
              "                 ColumnTransformer(remainder=&#x27;passthrough&#x27;, sparse_threshold=0,\n",
              "                                   transformers=[(&#x27;numerical&#x27;,\n",
              "                                                  Pipeline(steps=[(&#x27;converter&#x27;,\n",
              "                                                                   FunctionTransformer(func=&lt;function &lt;lambda&gt; at 0x7f17dee...\n",
              "                                                                   StandardScaler())]),\n",
              "                                                  [&#x27;Age&#x27;, &#x27;BloodPressure&#x27;,\n",
              "                                                   &#x27;Insulin&#x27;, &#x27;BMI&#x27;,\n",
              "                                                   &#x27;SkinThickness&#x27;,\n",
              "                                                   &#x27;DiabetesPedigreeFunction&#x27;,\n",
              "                                                   &#x27;Pregnancies&#x27;,\n",
              "                                                   &#x27;Glucose&#x27;])])),\n",
              "                (&#x27;classifier&#x27;,\n",
              "                 RandomForestClassifier(bootstrap=False, max_depth=10,\n",
              "                                        max_features=0.7677449424788753,\n",
              "                                        min_samples_leaf=0.04442193235296439,\n",
              "                                        min_samples_split=0.3428752008664911,\n",
              "                                        n_estimators=19, n_jobs=1,\n",
              "                                        random_state=331372508))])</pre></div></div></div><div class=\"sk-serial\"><div class=\"sk-item\"><div class=\"sk-estimator sk-toggleable\"><input class=\"sk-toggleable__control sk-hidden--visually\" id=\"sk-estimator-id-14\" type=\"checkbox\" ><label for=\"sk-estimator-id-14\" class=\"sk-toggleable__label sk-toggleable__label-arrow\">ColumnSelector</label><div class=\"sk-toggleable__content\"><pre>ColumnSelector(cols=[&#x27;Age&#x27;, &#x27;BloodPressure&#x27;, &#x27;Insulin&#x27;, &#x27;BMI&#x27;, &#x27;SkinThickness&#x27;,\n",
              "                     &#x27;DiabetesPedigreeFunction&#x27;, &#x27;Pregnancies&#x27;, &#x27;Glucose&#x27;])</pre></div></div></div><div class=\"sk-item sk-dashed-wrapped\"><div class=\"sk-label-container\"><div class=\"sk-label sk-toggleable\"><input class=\"sk-toggleable__control sk-hidden--visually\" id=\"sk-estimator-id-15\" type=\"checkbox\" ><label for=\"sk-estimator-id-15\" class=\"sk-toggleable__label sk-toggleable__label-arrow\">preprocessor: ColumnTransformer</label><div class=\"sk-toggleable__content\"><pre>ColumnTransformer(remainder=&#x27;passthrough&#x27;, sparse_threshold=0,\n",
              "                  transformers=[(&#x27;numerical&#x27;,\n",
              "                                 Pipeline(steps=[(&#x27;converter&#x27;,\n",
              "                                                  FunctionTransformer(func=&lt;function &lt;lambda&gt; at 0x7f17deeb2320&gt;)),\n",
              "                                                 (&#x27;imputers&#x27;,\n",
              "                                                  ColumnTransformer(transformers=[(&#x27;impute_mean&#x27;,\n",
              "                                                                                   SimpleImputer(),\n",
              "                                                                                   [&#x27;Age&#x27;,\n",
              "                                                                                    &#x27;BMI&#x27;,\n",
              "                                                                                    &#x27;BloodPressure&#x27;,\n",
              "                                                                                    &#x27;DiabetesPedigreeFunction&#x27;,\n",
              "                                                                                    &#x27;Glucose&#x27;,\n",
              "                                                                                    &#x27;Insulin&#x27;,\n",
              "                                                                                    &#x27;Pregnancies&#x27;,\n",
              "                                                                                    &#x27;SkinThickness&#x27;])])),\n",
              "                                                 (&#x27;standardizer&#x27;,\n",
              "                                                  StandardScaler())]),\n",
              "                                 [&#x27;Age&#x27;, &#x27;BloodPressure&#x27;, &#x27;Insulin&#x27;, &#x27;BMI&#x27;,\n",
              "                                  &#x27;SkinThickness&#x27;, &#x27;DiabetesPedigreeFunction&#x27;,\n",
              "                                  &#x27;Pregnancies&#x27;, &#x27;Glucose&#x27;])])</pre></div></div></div><div class=\"sk-parallel\"><div class=\"sk-parallel-item\"><div class=\"sk-item\"><div class=\"sk-label-container\"><div class=\"sk-label sk-toggleable\"><input class=\"sk-toggleable__control sk-hidden--visually\" id=\"sk-estimator-id-16\" type=\"checkbox\" ><label for=\"sk-estimator-id-16\" class=\"sk-toggleable__label sk-toggleable__label-arrow\">numerical</label><div class=\"sk-toggleable__content\"><pre>[&#x27;Age&#x27;, &#x27;BloodPressure&#x27;, &#x27;Insulin&#x27;, &#x27;BMI&#x27;, &#x27;SkinThickness&#x27;, &#x27;DiabetesPedigreeFunction&#x27;, &#x27;Pregnancies&#x27;, &#x27;Glucose&#x27;]</pre></div></div></div><div class=\"sk-serial\"><div class=\"sk-item\"><div class=\"sk-serial\"><div class=\"sk-item\"><div class=\"sk-estimator sk-toggleable\"><input class=\"sk-toggleable__control sk-hidden--visually\" id=\"sk-estimator-id-17\" type=\"checkbox\" ><label for=\"sk-estimator-id-17\" class=\"sk-toggleable__label sk-toggleable__label-arrow\">FunctionTransformer</label><div class=\"sk-toggleable__content\"><pre>FunctionTransformer(func=&lt;function &lt;lambda&gt; at 0x7f17deeb2320&gt;)</pre></div></div></div><div class=\"sk-item sk-dashed-wrapped\"><div class=\"sk-label-container\"><div class=\"sk-label sk-toggleable\"><input class=\"sk-toggleable__control sk-hidden--visually\" id=\"sk-estimator-id-18\" type=\"checkbox\" ><label for=\"sk-estimator-id-18\" class=\"sk-toggleable__label sk-toggleable__label-arrow\">imputers: ColumnTransformer</label><div class=\"sk-toggleable__content\"><pre>ColumnTransformer(transformers=[(&#x27;impute_mean&#x27;, SimpleImputer(),\n",
              "                                 [&#x27;Age&#x27;, &#x27;BMI&#x27;, &#x27;BloodPressure&#x27;,\n",
              "                                  &#x27;DiabetesPedigreeFunction&#x27;, &#x27;Glucose&#x27;,\n",
              "                                  &#x27;Insulin&#x27;, &#x27;Pregnancies&#x27;, &#x27;SkinThickness&#x27;])])</pre></div></div></div><div class=\"sk-parallel\"><div class=\"sk-parallel-item\"><div class=\"sk-item\"><div class=\"sk-label-container\"><div class=\"sk-label sk-toggleable\"><input class=\"sk-toggleable__control sk-hidden--visually\" id=\"sk-estimator-id-19\" type=\"checkbox\" ><label for=\"sk-estimator-id-19\" class=\"sk-toggleable__label sk-toggleable__label-arrow\">impute_mean</label><div class=\"sk-toggleable__content\"><pre>[&#x27;Age&#x27;, &#x27;BMI&#x27;, &#x27;BloodPressure&#x27;, &#x27;DiabetesPedigreeFunction&#x27;, &#x27;Glucose&#x27;, &#x27;Insulin&#x27;, &#x27;Pregnancies&#x27;, &#x27;SkinThickness&#x27;]</pre></div></div></div><div class=\"sk-serial\"><div class=\"sk-item\"><div class=\"sk-estimator sk-toggleable\"><input class=\"sk-toggleable__control sk-hidden--visually\" id=\"sk-estimator-id-20\" type=\"checkbox\" ><label for=\"sk-estimator-id-20\" class=\"sk-toggleable__label sk-toggleable__label-arrow\">SimpleImputer</label><div class=\"sk-toggleable__content\"><pre>SimpleImputer()</pre></div></div></div></div></div></div></div></div><div class=\"sk-item\"><div class=\"sk-estimator sk-toggleable\"><input class=\"sk-toggleable__control sk-hidden--visually\" id=\"sk-estimator-id-21\" type=\"checkbox\" ><label for=\"sk-estimator-id-21\" class=\"sk-toggleable__label sk-toggleable__label-arrow\">StandardScaler</label><div class=\"sk-toggleable__content\"><pre>StandardScaler()</pre></div></div></div></div></div></div></div></div><div class=\"sk-parallel-item\"><div class=\"sk-item\"><div class=\"sk-label-container\"><div class=\"sk-label sk-toggleable\"><input class=\"sk-toggleable__control sk-hidden--visually\" id=\"sk-estimator-id-22\" type=\"checkbox\" ><label for=\"sk-estimator-id-22\" class=\"sk-toggleable__label sk-toggleable__label-arrow\">remainder</label><div class=\"sk-toggleable__content\"><pre>[]</pre></div></div></div><div class=\"sk-serial\"><div class=\"sk-item\"><div class=\"sk-estimator sk-toggleable\"><input class=\"sk-toggleable__control sk-hidden--visually\" id=\"sk-estimator-id-23\" type=\"checkbox\" ><label for=\"sk-estimator-id-23\" class=\"sk-toggleable__label sk-toggleable__label-arrow\">passthrough</label><div class=\"sk-toggleable__content\"><pre>passthrough</pre></div></div></div></div></div></div></div></div><div class=\"sk-item\"><div class=\"sk-estimator sk-toggleable\"><input class=\"sk-toggleable__control sk-hidden--visually\" id=\"sk-estimator-id-24\" type=\"checkbox\" ><label for=\"sk-estimator-id-24\" class=\"sk-toggleable__label sk-toggleable__label-arrow\">RandomForestClassifier</label><div class=\"sk-toggleable__content\"><pre>RandomForestClassifier(bootstrap=False, max_depth=10,\n",
              "                       max_features=0.7677449424788753,\n",
              "                       min_samples_leaf=0.04442193235296439,\n",
              "                       min_samples_split=0.3428752008664911, n_estimators=19,\n",
              "                       n_jobs=1, random_state=331372508)</pre></div></div></div></div></div></div></div>"
            ],
            "text/plain": [
              "Pipeline(steps=[('column_selector',\n",
              "                 ColumnSelector(cols=['Age', 'BloodPressure', 'Insulin', 'BMI',\n",
              "                                      'SkinThickness',\n",
              "                                      'DiabetesPedigreeFunction', 'Pregnancies',\n",
              "                                      'Glucose'])),\n",
              "                ('preprocessor',\n",
              "                 ColumnTransformer(remainder='passthrough', sparse_threshold=0,\n",
              "                                   transformers=[('numerical',\n",
              "                                                  Pipeline(steps=[('converter',\n",
              "                                                                   FunctionTransformer(func=<function <lambda> at 0x7f17dee...\n",
              "                                                                   StandardScaler())]),\n",
              "                                                  ['Age', 'BloodPressure',\n",
              "                                                   'Insulin', 'BMI',\n",
              "                                                   'SkinThickness',\n",
              "                                                   'DiabetesPedigreeFunction',\n",
              "                                                   'Pregnancies',\n",
              "                                                   'Glucose'])])),\n",
              "                ('classifier',\n",
              "                 RandomForestClassifier(bootstrap=False, max_depth=10,\n",
              "                                        max_features=0.7677449424788753,\n",
              "                                        min_samples_leaf=0.04442193235296439,\n",
              "                                        min_samples_split=0.3428752008664911,\n",
              "                                        n_estimators=19, n_jobs=1,\n",
              "                                        random_state=331372508))])"
            ]
          },
          "execution_count": 11,
          "metadata": {}
        },
        {
          "output_type": "display_data",
          "data": {
            "text/plain": [
              "<Figure size 1050x700 with 0 Axes>"
            ]
          },
          "metadata": {}
        }
      ],
      "source": [
        "trials = Trials()\n",
        "fmin(objective,\n",
        "     space=space,\n",
        "     algo=tpe.suggest,\n",
        "     max_evals=1,  # Increase this when widening the hyperparameter search space.\n",
        "     trials=trials)\n",
        "\n",
        "best_result = trials.best_trial[\"result\"]\n",
        "model = best_result[\"model\"]\n",
        "mlflow_run = best_result[\"run\"]\n",
        "\n",
        "display(\n",
        "  pd.DataFrame(\n",
        "    [best_result[\"val_metrics\"], best_result[\"test_metrics\"]],\n",
        "    index=[\"validation\", \"test\"]))\n",
        "\n",
        "set_config(display=\"diagram\")\n",
        "model"
      ]
    },
    {
      "cell_type": "markdown",
      "metadata": {
        "application/vnd.databricks.v1+cell": {
          "cellMetadata": {},
          "inputWidgets": {},
          "nuid": "abd06011-f7e2-4f59-b1f4-f500aeabcaa4",
          "showTitle": false,
          "title": ""
        },
        "id": "jlZhcDiPdbV6"
      },
      "source": [
        "### Patch pandas version in logged model\n",
        "\n",
        "Ensures that model serving uses the same version of pandas that was used to train the model."
      ]
    },
    {
      "cell_type": "code",
      "execution_count": null,
      "metadata": {
        "application/vnd.databricks.v1+cell": {
          "cellMetadata": {},
          "inputWidgets": {},
          "nuid": "4319f93d-a764-4d4e-92c0-5f22b89054ab",
          "showTitle": false,
          "title": ""
        },
        "execution": {
          "iopub.execute_input": "2024-02-04T17:10:24.993050Z",
          "iopub.status.busy": "2024-02-04T17:10:24.992534Z",
          "iopub.status.idle": "2024-02-04T17:10:27.809597Z",
          "shell.execute_reply": "2024-02-04T17:10:27.808718Z"
        },
        "id": "d3YCdgTKdbV6",
        "outputId": "ed23b19b-f950-45d1-c57f-7e144eb6faf0",
        "colab": {
          "referenced_widgets": [
            "80d96bfb74a24c54a9df8ad2936f9e55",
            "69cf5d9be07548bfaf9f8c43dec1282b"
          ]
        }
      },
      "outputs": [
        {
          "output_type": "display_data",
          "data": {
            "application/vnd.jupyter.widget-view+json": {
              "model_id": "80d96bfb74a24c54a9df8ad2936f9e55",
              "version_major": 2,
              "version_minor": 0
            },
            "text/plain": [
              "Downloading artifacts:   0%|          | 0/1 [00:00<?, ?it/s]"
            ]
          },
          "metadata": {}
        },
        {
          "output_type": "stream",
          "name": "stdout",
          "text": [
            "Adding pandas dependency to conda.yaml\n"
          ]
        },
        {
          "output_type": "display_data",
          "data": {
            "application/vnd.jupyter.widget-view+json": {
              "model_id": "69cf5d9be07548bfaf9f8c43dec1282b",
              "version_major": 2,
              "version_minor": 0
            },
            "text/plain": [
              "Downloading artifacts:   0%|          | 0/1 [00:00<?, ?it/s]"
            ]
          },
          "metadata": {}
        },
        {
          "output_type": "stream",
          "name": "stdout",
          "text": [
            "Adding pandas dependency to requirements.txt\n"
          ]
        }
      ],
      "source": [
        "import mlflow\n",
        "import os\n",
        "import shutil\n",
        "import tempfile\n",
        "import yaml\n",
        "\n",
        "run_id = mlflow_run.info.run_id\n",
        "\n",
        "# Set up a local dir for downloading the artifacts.\n",
        "tmp_dir = tempfile.mkdtemp()\n",
        "\n",
        "client = mlflow.tracking.MlflowClient()\n",
        "\n",
        "# Fix conda.yaml\n",
        "conda_file_path = mlflow.artifacts.download_artifacts(artifact_uri=f\"runs:/{run_id}/model/conda.yaml\", dst_path=tmp_dir)\n",
        "with open(conda_file_path) as f:\n",
        "  conda_libs = yaml.load(f, Loader=yaml.FullLoader)\n",
        "pandas_lib_exists = any([lib.startswith(\"pandas==\") for lib in conda_libs[\"dependencies\"][-1][\"pip\"]])\n",
        "if not pandas_lib_exists:\n",
        "  print(\"Adding pandas dependency to conda.yaml\")\n",
        "  conda_libs[\"dependencies\"][-1][\"pip\"].append(f\"pandas=={pd.__version__}\")\n",
        "\n",
        "  with open(f\"{tmp_dir}/conda.yaml\", \"w\") as f:\n",
        "    f.write(yaml.dump(conda_libs))\n",
        "  client.log_artifact(run_id=run_id, local_path=conda_file_path, artifact_path=\"model\")\n",
        "\n",
        "# Fix requirements.txt\n",
        "venv_file_path = mlflow.artifacts.download_artifacts(artifact_uri=f\"runs:/{run_id}/model/requirements.txt\", dst_path=tmp_dir)\n",
        "with open(venv_file_path) as f:\n",
        "  venv_libs = f.readlines()\n",
        "venv_libs = [lib.strip() for lib in venv_libs]\n",
        "pandas_lib_exists = any([lib.startswith(\"pandas==\") for lib in venv_libs])\n",
        "if not pandas_lib_exists:\n",
        "  print(\"Adding pandas dependency to requirements.txt\")\n",
        "  venv_libs.append(f\"pandas=={pd.__version__}\")\n",
        "\n",
        "  with open(f\"{tmp_dir}/requirements.txt\", \"w\") as f:\n",
        "    f.write(\"\\n\".join(venv_libs))\n",
        "  client.log_artifact(run_id=run_id, local_path=venv_file_path, artifact_path=\"model\")\n",
        "\n",
        "shutil.rmtree(tmp_dir)"
      ]
    },
    {
      "cell_type": "markdown",
      "metadata": {
        "application/vnd.databricks.v1+cell": {
          "cellMetadata": {},
          "inputWidgets": {},
          "nuid": "1172fbe4-b73c-452b-8112-12a42b33a9dd",
          "showTitle": false,
          "title": ""
        },
        "id": "D3C5l88WdbV7"
      },
      "source": [
        "## Feature importance\n",
        "\n",
        "SHAP is a game-theoretic approach to explain machine learning models, providing a summary plot\n",
        "of the relationship between features and model output. Features are ranked in descending order of\n",
        "importance, and impact/color describe the correlation between the feature and the target variable.\n",
        "- Generating SHAP feature importance is a very memory intensive operation, so to ensure that AutoML can run trials without\n",
        "  running out of memory, we disable SHAP by default.<br />\n",
        "  You can set the flag defined below to `shap_enabled = True` and re-run this notebook to see the SHAP plots.\n",
        "- To reduce the computational overhead of each trial, a single example is sampled from the validation set to explain.<br />\n",
        "  For more thorough results, increase the sample size of explanations, or provide your own examples to explain.\n",
        "- SHAP cannot explain models using data with nulls; if your dataset has any, both the background data and\n",
        "  examples to explain will be imputed using the mode (most frequent values). This affects the computed\n",
        "  SHAP values, as the imputed samples may not match the actual data distribution.\n",
        "\n",
        "For more information on how to read Shapley values, see the [SHAP documentation](https://shap.readthedocs.io/en/latest/example_notebooks/overviews/An%20introduction%20to%20explainable%20AI%20with%20Shapley%20values.html)."
      ]
    },
    {
      "cell_type": "code",
      "execution_count": null,
      "metadata": {
        "application/vnd.databricks.v1+cell": {
          "cellMetadata": {},
          "inputWidgets": {},
          "nuid": "8fc36adc-8b8b-4ddf-8bfc-e746f046afc5",
          "showTitle": false,
          "title": ""
        },
        "execution": {
          "iopub.execute_input": "2024-02-04T17:10:27.813443Z",
          "iopub.status.busy": "2024-02-04T17:10:27.813072Z",
          "iopub.status.idle": "2024-02-04T17:10:27.816915Z",
          "shell.execute_reply": "2024-02-04T17:10:27.816198Z"
        },
        "id": "3MZUG5c9dbV8"
      },
      "outputs": [],
      "source": [
        "# Set this flag to True and re-run the notebook to see the SHAP plots\n",
        "shap_enabled = False"
      ]
    },
    {
      "cell_type": "code",
      "execution_count": null,
      "metadata": {
        "application/vnd.databricks.v1+cell": {
          "cellMetadata": {},
          "inputWidgets": {},
          "nuid": "f07a1192-3b6e-42fe-b75a-dd0dcaec2047",
          "showTitle": false,
          "title": ""
        },
        "execution": {
          "iopub.execute_input": "2024-02-04T17:10:27.821040Z",
          "iopub.status.busy": "2024-02-04T17:10:27.819605Z",
          "iopub.status.idle": "2024-02-04T17:10:27.828053Z",
          "shell.execute_reply": "2024-02-04T17:10:27.827387Z"
        },
        "id": "NgjGaDTKdbV9"
      },
      "outputs": [],
      "source": [
        "if shap_enabled:\n",
        "    mlflow.autolog(disable=True)\n",
        "    mlflow.sklearn.autolog(disable=True)\n",
        "    from shap import KernelExplainer, summary_plot\n",
        "    # Sample background data for SHAP Explainer. Increase the sample size to reduce variance.\n",
        "    train_sample = X_train.sample(n=min(100, X_train.shape[0]), random_state=331372508)\n",
        "\n",
        "    # Sample some rows from the validation set to explain. Increase the sample size for more thorough results.\n",
        "    example = X_val.sample(n=min(100, X_val.shape[0]), random_state=331372508)\n",
        "\n",
        "    # Use Kernel SHAP to explain feature importance on the sampled rows from the validation set.\n",
        "    predict = lambda x: model.predict(pd.DataFrame(x, columns=X_train.columns))\n",
        "    explainer = KernelExplainer(predict, train_sample, link=\"identity\")\n",
        "    shap_values = explainer.shap_values(example, l1_reg=False, nsamples=500)\n",
        "    summary_plot(shap_values, example, class_names=model.classes_)"
      ]
    },
    {
      "cell_type": "markdown",
      "metadata": {
        "application/vnd.databricks.v1+cell": {
          "cellMetadata": {},
          "inputWidgets": {},
          "nuid": "2a52956d-5430-48c3-b170-16a13633af5a",
          "showTitle": false,
          "title": ""
        },
        "id": "GRvsUyXbdbV-"
      },
      "source": [
        "## Inference\n",
        "[The MLflow Model Registry](https://docs.databricks.com/applications/mlflow/model-registry.html) is a collaborative hub where teams can share ML models, work together from experimentation to online testing and production, integrate with approval and governance workflows, and monitor ML deployments and their performance. The snippets below show how to add the model trained in this notebook to the model registry and to retrieve it later for inference.\n",
        "\n",
        "> **NOTE:** The `model_uri` for the model already trained in this notebook can be found in the cell below\n",
        "\n",
        "### Register to Model Registry\n",
        "```\n",
        "model_name = \"Example\"\n",
        "\n",
        "model_uri = f\"runs:/{ mlflow_run.info.run_id }/model\"\n",
        "registered_model_version = mlflow.register_model(model_uri, model_name)\n",
        "```\n",
        "\n",
        "### Load from Model Registry\n",
        "```\n",
        "model_name = \"Example\"\n",
        "model_version = registered_model_version.version\n",
        "\n",
        "model_uri=f\"models:/{model_name}/{model_version}\"\n",
        "model = mlflow.pyfunc.load_model(model_uri=model_uri)\n",
        "model.predict(input_X)\n",
        "```\n",
        "\n",
        "### Load model without registering\n",
        "```\n",
        "model_uri = f\"runs:/{ mlflow_run.info.run_id }/model\"\n",
        "\n",
        "model = mlflow.pyfunc.load_model(model_uri=model_uri)\n",
        "model.predict(input_X)\n",
        "```"
      ]
    },
    {
      "cell_type": "code",
      "execution_count": null,
      "metadata": {
        "application/vnd.databricks.v1+cell": {
          "cellMetadata": {},
          "inputWidgets": {},
          "nuid": "74e850a2-d7be-490f-871d-67ac29aaf3db",
          "showTitle": false,
          "title": ""
        },
        "execution": {
          "iopub.execute_input": "2024-02-04T17:10:27.833622Z",
          "iopub.status.busy": "2024-02-04T17:10:27.832236Z",
          "iopub.status.idle": "2024-02-04T17:10:27.838850Z",
          "shell.execute_reply": "2024-02-04T17:10:27.838224Z"
        },
        "id": "ACku3lyBdbV-",
        "outputId": "68460524-202a-4d22-b892-f3a49ac5c827"
      },
      "outputs": [
        {
          "output_type": "stream",
          "name": "stdout",
          "text": [
            "runs:/23ea534be5764cf39bd6f4e92fec89ee/model\n"
          ]
        }
      ],
      "source": [
        "# model_uri for the generated model\n",
        "print(f\"runs:/{ mlflow_run.info.run_id }/model\")"
      ]
    },
    {
      "cell_type": "markdown",
      "metadata": {
        "application/vnd.databricks.v1+cell": {
          "cellMetadata": {},
          "inputWidgets": {},
          "nuid": "fcfc2050-1e1c-47cd-8c7e-d4adaee1bf0a",
          "showTitle": false,
          "title": ""
        },
        "id": "FwpsVsKQdbV_"
      },
      "source": [
        "## Confusion matrix, ROC and Precision-Recall curves for validation data\n",
        "\n",
        "We show the confusion matrix, ROC and Precision-Recall curves of the model on the validation data.\n",
        "\n",
        "For the plots evaluated on the training and the test data, check the artifacts on the MLflow run page."
      ]
    },
    {
      "cell_type": "code",
      "execution_count": null,
      "metadata": {
        "application/vnd.databricks.v1+cell": {
          "cellMetadata": {},
          "inputWidgets": {},
          "nuid": "369cfdab-87ca-4dac-9ef1-4376ff54d86a",
          "showTitle": false,
          "title": ""
        },
        "execution": {
          "iopub.execute_input": "2024-02-04T17:10:27.843896Z",
          "iopub.status.busy": "2024-02-04T17:10:27.842612Z",
          "iopub.status.idle": "2024-02-04T17:10:27.854326Z",
          "shell.execute_reply": "2024-02-04T17:10:27.853665Z"
        },
        "id": "X00f-4KBdbV_",
        "outputId": "a861a336-f75a-4eec-d66d-ce4a667529f2"
      },
      "outputs": [
        {
          "output_type": "display_data",
          "data": {
            "text/html": [
              "<a href=#mlflow/experiments/2254848194841967/runs/23ea534be5764cf39bd6f4e92fec89ee/artifactPath/model> Link to model run page </a>"
            ],
            "text/plain": [
              "<IPython.core.display.HTML object>"
            ]
          },
          "metadata": {}
        }
      ],
      "source": [
        "# Click the link to see the MLflow run page\n",
        "displayHTML(f\"<a href=#mlflow/experiments/2254848194841967/runs/{ mlflow_run.info.run_id }/artifactPath/model> Link to model run page </a>\")"
      ]
    },
    {
      "cell_type": "code",
      "execution_count": null,
      "metadata": {
        "application/vnd.databricks.v1+cell": {
          "cellMetadata": {},
          "inputWidgets": {},
          "nuid": "37900f92-9614-4824-a284-72060c3de2f1",
          "showTitle": false,
          "title": ""
        },
        "execution": {
          "iopub.execute_input": "2024-02-04T17:10:27.859203Z",
          "iopub.status.busy": "2024-02-04T17:10:27.857936Z",
          "iopub.status.idle": "2024-02-04T17:10:32.665772Z",
          "shell.execute_reply": "2024-02-04T17:10:32.664619Z"
        },
        "id": "I7V7YEaNdbV_",
        "outputId": "67b6fda3-8f12-47eb-84b8-e356a063d510",
        "colab": {
          "referenced_widgets": [
            "81f3cf92a4f14411a818971a055f3f10"
          ]
        }
      },
      "outputs": [
        {
          "output_type": "display_data",
          "data": {
            "application/vnd.jupyter.widget-view+json": {
              "model_id": "81f3cf92a4f14411a818971a055f3f10",
              "version_major": 2,
              "version_minor": 0
            },
            "text/plain": [
              "Downloading artifacts:   0%|          | 0/21 [00:00<?, ?it/s]"
            ]
          },
          "metadata": {}
        },
        {
          "output_type": "stream",
          "name": "stderr",
          "text": [
            "2024/02/04 17:10:30 INFO mlflow.store.artifact.artifact_repo: The progress bar can be disabled by setting the environment variable MLFLOW_ENABLE_ARTIFACTS_PROGRESS_BAR to false\n"
          ]
        }
      ],
      "source": [
        "import uuid\n",
        "from IPython.display import Image\n",
        "\n",
        "# Create temp directory to download MLflow model artifact\n",
        "eval_temp_dir = os.path.join(os.environ[\"SPARK_LOCAL_DIRS\"], \"tmp\", str(uuid.uuid4())[:8])\n",
        "os.makedirs(eval_temp_dir, exist_ok=True)\n",
        "\n",
        "# Download the artifact\n",
        "eval_path = mlflow.artifacts.download_artifacts(run_id=mlflow_run.info.run_id, dst_path=eval_temp_dir)"
      ]
    },
    {
      "cell_type": "markdown",
      "metadata": {
        "application/vnd.databricks.v1+cell": {
          "cellMetadata": {},
          "inputWidgets": {},
          "nuid": "bea88d61-dcc3-498a-a3da-255fe5d3492a",
          "showTitle": false,
          "title": ""
        },
        "id": "AeGl6a3SdbWA"
      },
      "source": [
        "### Confusion matrix for validation dataset"
      ]
    },
    {
      "cell_type": "code",
      "execution_count": null,
      "metadata": {
        "application/vnd.databricks.v1+cell": {
          "cellMetadata": {},
          "inputWidgets": {},
          "nuid": "9c58e439-fee8-4294-a5ec-148da4044057",
          "showTitle": false,
          "title": ""
        },
        "execution": {
          "iopub.execute_input": "2024-02-04T17:10:32.669906Z",
          "iopub.status.busy": "2024-02-04T17:10:32.669588Z",
          "iopub.status.idle": "2024-02-04T17:10:32.679231Z",
          "shell.execute_reply": "2024-02-04T17:10:32.677675Z"
        },
        "large_display_output": true,
        "id": "JAx-t4vEdbWA",
        "outputId": "4fe31668-d996-4e6f-f68b-9e632ed0fb9e"
      },
      "outputs": [
        {
          "output_type": "display_data",
          "data": {
            "image/png": "[encoded data removed]",
            "text/plain": [
              "<IPython.core.display.Image object>"
            ]
          },
          "metadata": {}
        }
      ],
      "source": [
        "eval_confusion_matrix_path = os.path.join(eval_path, \"val_confusion_matrix.png\")\n",
        "display(Image(filename=eval_confusion_matrix_path))"
      ]
    },
    {
      "cell_type": "markdown",
      "metadata": {
        "application/vnd.databricks.v1+cell": {
          "cellMetadata": {},
          "inputWidgets": {},
          "nuid": "3e78e54c-e79e-469f-9d9d-3c4523175830",
          "showTitle": false,
          "title": ""
        },
        "id": "O2ZQqKeBdbWA"
      },
      "source": [
        "### ROC curve for validation dataset"
      ]
    },
    {
      "cell_type": "code",
      "execution_count": null,
      "metadata": {
        "application/vnd.databricks.v1+cell": {
          "cellMetadata": {},
          "inputWidgets": {},
          "nuid": "f82335bb-b26f-43d7-b5fe-0ec516da220c",
          "showTitle": false,
          "title": ""
        },
        "execution": {
          "iopub.execute_input": "2024-02-04T17:10:32.683055Z",
          "iopub.status.busy": "2024-02-04T17:10:32.682721Z",
          "iopub.status.idle": "2024-02-04T17:10:32.691909Z",
          "shell.execute_reply": "2024-02-04T17:10:32.691011Z"
        },
        "large_display_output": true,
        "id": "nzNDunLhdbWB",
        "outputId": "875bc299-4b0d-48e0-f19f-ccb50d5b3ad3"
      },
      "outputs": [
        {
          "output_type": "display_data",
          "data": {
            "image/png": "[encoded data removed]",
            "text/plain": [
              "<IPython.core.display.Image object>"
            ]
          },
          "metadata": {}
        }
      ],
      "source": [
        "eval_roc_curve_path = os.path.join(eval_path, \"val_roc_curve_plot.png\")\n",
        "display(Image(filename=eval_roc_curve_path))"
      ]
    },
    {
      "cell_type": "markdown",
      "metadata": {
        "application/vnd.databricks.v1+cell": {
          "cellMetadata": {},
          "inputWidgets": {},
          "nuid": "3ecb913e-d16c-42b1-90b7-c0251933e1e9",
          "showTitle": false,
          "title": ""
        },
        "id": "GTxf30N3dbWB"
      },
      "source": [
        "### Precision-Recall curve for validation dataset"
      ]
    },
    {
      "cell_type": "code",
      "execution_count": null,
      "metadata": {
        "application/vnd.databricks.v1+cell": {
          "cellMetadata": {},
          "inputWidgets": {},
          "nuid": "9fd53f7b-c47c-4989-b468-3f2d0caaf407",
          "showTitle": false,
          "title": ""
        },
        "execution": {
          "iopub.execute_input": "2024-02-04T17:10:32.695552Z",
          "iopub.status.busy": "2024-02-04T17:10:32.695015Z",
          "iopub.status.idle": "2024-02-04T17:10:32.703196Z",
          "shell.execute_reply": "2024-02-04T17:10:32.702201Z"
        },
        "large_display_output": true,
        "id": "-dzg-NU5dbWB",
        "outputId": "5bcd2bae-9d64-4631-919e-2473cad8372c"
      },
      "outputs": [
        {
          "output_type": "display_data",
          "data": {
            "image/png": "[encoded data removed]",
            "text/plain": [
              "<IPython.core.display.Image object>"
            ]
          },
          "metadata": {}
        }
      ],
      "source": [
        "eval_pr_curve_path = os.path.join(eval_path, \"val_precision_recall_curve_plot.png\")\n",
        "display(Image(filename=eval_pr_curve_path))"
      ]
    }
  ],
  "metadata": {
    "application/vnd.databricks.v1+notebook": {
      "dashboards": [],
      "language": "python",
      "notebookMetadata": {
        "pythonIndentUnit": 4
      },
      "notebookName": "AutoML Demo Class",
      "widgets": {}
    },
    "language_info": {
      "codemirror_mode": {
        "name": "ipython",
        "version": 3
      },
      "file_extension": ".py",
      "mimetype": "text/x-python",
      "name": "python",
      "nbconvert_exporter": "python",
      "pygments_lexer": "ipython3",
      "version": "3.10.12"
    },
    "name": "RandomForestClassifier-f4430734d293e46348c49b88c3b6c5a3",
    "widgets": {
      "application/vnd.jupyter.widget-state+json": {}
    },
    "colab": {
      "provenance": []
    }
  },
  "nbformat": 4,
  "nbformat_minor": 0
}